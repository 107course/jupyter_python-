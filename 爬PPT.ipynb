{
 "cells": [
  {
   "cell_type": "code",
   "execution_count": 8,
   "metadata": {
    "collapsed": false
   },
   "outputs": [
    {
     "name": "stdout",
     "output_type": "stream",
     "text": [
      "\n",
      "[請益] 高雄上閤屋\n",
      " bestlee\n",
      "\n",
      "Fw: [食記] 花蓮巷弄內的隱藏版早午餐：天使肉蛋吐司\n",
      " joan0912\n",
      "\n",
      "[食記] [台中牛肉麵]只營業2.5小時的湖南味分店\n",
      " dtmsimon\n",
      "\n",
      "[請益] 雙方父母見面的餐廳建議\n",
      " jackie820322\n",
      "\n",
      "[食記]台北市 信義 松菸文創 二代福林福州乾拌麵\n",
      " lasor\n",
      "\n",
      "[食記] 台東 純素優雅餐廳 夏安居草食堂\n",
      " austinliang\n",
      "\n",
      "[公告] Food板 板規 V3.8\n",
      " Dilbert\n",
      "\n",
      "精華區使用方法  【重要！新手必看！】\n",
      " Yawper\n",
      "\n",
      "[公告] 發文請在標題加上地區及提供地址電話。^^\n",
      " bluefish\n",
      "\n",
      "[公告] 文章被刪除者請洽精華區的資源回收桶\n",
      " Dilbert\n",
      "\n",
      "[公告] 板規16發文標題須含餐廳店名之調整\n",
      " Dilbert\n"
     ]
    }
   ],
   "source": [
    "import requests\n",
    "from bs4 import BeautifulSoup\n",
    "res = requests.get('https://www.ptt.cc/bbs/Food/')\n",
    "soup = BeautifulSoup(res.text,'lxml')\n",
    "for item in soup.select(\".r-ent\"):\n",
    "    print(item.select(\".title\")[0].text, item.select(\".author\")[0].text)"
   ]
  },
  {
   "cell_type": "code",
   "execution_count": 10,
   "metadata": {
    "collapsed": false
   },
   "outputs": [
    {
     "name": "stdout",
     "output_type": "stream",
     "text": [
      "\n",
      "[問卦] 有沒有雨天大阪該去哪邊的掛\n",
      " ss89204\n",
      "\n",
      "Re: [問卦] 支持廢死的人變多的八卦\n",
      " LEDtorch\n",
      "\n",
      "Re: [問卦] 有人後悔參加學運幫忙抬轎了嗎？\n",
      " angell543\n",
      "\n",
      "Re: [問卦] 當警察的都是什麼人啊\n",
      " sahnsu\n",
      "\n",
      "[問卦] 這個社會這麼黑暗\n",
      " g898\n",
      "\n",
      "\t\t\t\n",
      "\t\t\t\t(本文已被刪除) [YummyMcGee]\n",
      "\t\t\t\n",
      "\t\t\t -\n",
      "\n",
      "Re: [ＦＢ] 黃智賢FB:好爽！民進黨版兩岸監督條例\n",
      " FMANT\n",
      "\n",
      "[爆卦] 自稱中華電信經銷商?\n",
      " squarevr\n",
      "\n",
      "[問卦] 遊覽車上的KTV該唱什麼？\n",
      " edisoncch\n",
      "\n",
      "[新聞] 民進黨監督條例收回自動生效 徐永明認同\n",
      " heyboy0311\n",
      "\n",
      "[新聞] 【鴻夏戀】日本關西發生規模6.1地震　夏\n",
      " taristocrat\n",
      "\n",
      "[問卦] 真的會有人 愚人節騙人嗎???\n",
      " mimi0254didi\n",
      "\n",
      "[問卦] 有沒有愚人節八卦版不會推肛的八卦\n",
      " T22TT22T\n",
      "\n",
      "[問卦] 人活太久是不是不太好?\n",
      " omare\n",
      "\n",
      "Re: [問卦] ASUS轉做通訊移動產業算是成功嗎\n",
      " cattgirl\n",
      "\n",
      "Re: [問卦] 中共為何害怕台獨啊\n",
      " CORSA\n",
      "\n",
      "[問卦] 春假是怎麼來的\n",
      " js88117\n",
      "\n",
      "Re: [新聞] 綠版監督條例遭批 吳秉叡：將修正自動生效文字\n",
      " chikuo\n",
      "\n",
      "[公告] 八卦板板規(2016.02.16)\n",
      " seabox\n",
      "\n",
      "Fw: [情報] Ptt兒童節特別企劃\n",
      " holishing\n",
      "\n",
      "[公告] ★第九屆八卦板主投票★\n",
      " Bignana\n",
      "\n",
      "[公告] ★進板圖徵選投票開始★\n",
      " Bignana\n",
      "\n",
      "[公告] 三月份置底閒聊區\n",
      " Bignana\n"
     ]
    }
   ],
   "source": [
    "import requests\n",
    "formdata={'from':'/bbs/Gossiping/index.html','yes':'yes'}\n",
    "rs = requests.session()\n",
    "res = rs.post('https://www.ptt.cc/ask/over18',data=formdata)\n",
    "res = rs.get('https://www.ptt.cc/bbs/Gossiping/index.html')\n",
    "soup = BeautifulSoup(res.text,'lxml')\n",
    "for item in soup.select(\".r-ent\"):\n",
    "    print(item.select(\".title\")[0].text, item.select(\".author\")[0].text)\n",
    "    "
   ]
  },
  {
   "cell_type": "code",
   "execution_count": null,
   "metadata": {
    "collapsed": true
   },
   "outputs": [],
   "source": []
  }
 ],
 "metadata": {
  "kernelspec": {
   "display_name": "Python 3",
   "language": "python",
   "name": "python3"
  },
  "language_info": {
   "codemirror_mode": {
    "name": "ipython",
    "version": 3
   },
   "file_extension": ".py",
   "mimetype": "text/x-python",
   "name": "python",
   "nbconvert_exporter": "python",
   "pygments_lexer": "ipython3",
   "version": "3.5.1"
  }
 },
 "nbformat": 4,
 "nbformat_minor": 0
}
