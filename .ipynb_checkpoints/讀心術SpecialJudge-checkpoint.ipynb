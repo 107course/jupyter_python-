{
 "cells": [
  {
   "cell_type": "code",
   "execution_count": 40,
   "metadata": {
    "collapsed": false
   },
   "outputs": [
    {
     "name": "stdout",
     "output_type": "stream",
     "text": [
      "card0: 陳林黃張李王吳劉蔡楊許鄭謝洪郭邱曾廖賴徐周葉蘇莊呂江何蕭羅高潘簡\n",
      "card2: 黃,張,吳,劉,許,鄭,郭,邱,賴,徐,蘇,莊,何,蕭,潘,簡\n",
      "card4: 蔡,楊,許,鄭,謝,洪,郭,邱,呂,江,何,蕭,羅,高,潘,簡\n",
      "card1: 林,張,王,劉,楊,鄭,洪,邱,廖,徐,葉,莊,江,蕭,高,簡\n",
      "card6: \n",
      "card5: 曾,廖,賴,徐,周,葉,蘇,莊,呂,江,何,蕭,羅,高,潘,簡\n",
      "card3: 李,王,吳,劉,謝,洪,郭,邱,周,葉,蘇,莊,羅,高,潘,簡\n"
     ]
    }
   ],
   "source": [
    "import random\n",
    "#s = \"陳,林,黃,張,李,王,吳,劉,蔡,楊,許,鄭,謝,洪,郭,邱,曾,廖,賴,徐,周,葉,蘇,莊,呂,江,何,蕭,羅,高,潘,簡,朱,鍾,彭,游,詹,胡,施,沈,余,盧,梁,趙,顏,柯,翁,魏,孫,戴,范,方,宋,鄧,杜,傅,侯,曹,薛,丁,卓,馬,阮,董\".split(',')\n",
    "s = \"陳,林,黃,張,李,王,吳,劉,蔡,楊,許,鄭,謝,洪,郭,邱,曾,廖,賴,徐,周,葉,蘇,莊,呂,江,何,蕭,羅,高,潘,簡\".split(',')\n",
    "#s = list(\"陳林黃張李王吳劉蔡楊許鄭謝洪郭邱曾廖賴徐周葉蘇莊呂江何蕭羅高潘簡朱鍾彭游詹胡施沈余盧梁趙顏柯翁魏孫戴范方宋鄧杜傅侯曹薛丁卓馬阮董\")\n",
    "cards = {'card1':[], 'card2':[], 'card3':[], 'card4':[], 'card5':[], 'card6':[] }\n",
    "for index in range(0, len(s)):\n",
    "    for num in range(0, 6):\n",
    "        if index&(2**num)>0:\n",
    "            cards['card'+str(num+1)].append(s[index])\n",
    "            \n",
    "print(\"card0: \"+''.join(s))\n",
    "for card in cards.keys():\n",
    "    #random.shuffle(cards[card])\n",
    "    print(card+\": \" + ','.join(cards[card]))\n"
   ]
  },
  {
   "cell_type": "code",
   "execution_count": 41,
   "metadata": {
    "collapsed": false
   },
   "outputs": [
    {
     "name": "stdout",
     "output_type": "stream",
     "text": [
      "['陳', '林', '黃', '張', '李', '王', '吳', '劉', '蔡', '楊', '許', '鄭', '謝', '洪', '郭', '邱', '曾', '廖', '賴', '徐', '周', '葉', '蘇', '莊', '呂', '江', '何', '蕭', '羅', '高', '潘', '簡\\n']\n",
      "card1\n",
      "card2\n",
      "card3\n",
      "card4\n",
      "card5\n"
     ]
    }
   ],
   "source": [
    "import math\n",
    "#words = input().split(',')\n",
    "#words = \"陳,林,黃,張,李,王,吳,劉,蔡,楊,許,鄭,謝,洪,郭,邱,曾,廖,賴,徐,周,葉,蘇,莊,呂,江,何,蕭,羅,高,潘,簡,朱,鍾,彭,游,詹,胡,施,沈,余,盧,梁,趙,顏,柯,翁,魏,孫,戴,范,方,宋,鄧,杜,傅,侯,曹,薛,丁,卓,馬,阮,董\".split(',')\n",
    "f = open('input.txt', 'r', encoding='UTF-8')\n",
    "words = f.readline().split(',')\n",
    "cards = {}\n",
    "print(words)\n",
    "n = math.floor(math.log(len(words), 2))\n",
    "for num in range(0, n):\n",
    "    cards['card'+str(num+1)] = list()\n",
    "\n",
    "for index in range(0, len(words)):\n",
    "    for num in range(0, n):\n",
    "        if index&(2**num)>0:\n",
    "            cards['card'+str(num+1)].append(words[index])\n",
    "\n",
    "#print(cards)\n",
    "\n",
    "for cardn in range(1, n+1):\n",
    "    print(\"card\"+str(cardn))\n",
    "    card = f.readline().split(',')\n",
    "    s1 = set(cards['card'+str(cardn)])\n",
    "    s2 = set(card)\n",
    "    if len(s1.difference(s2))!=0:\n",
    "        print(\"錯了！\")"
   ]
  },
  {
   "cell_type": "code",
   "execution_count": 34,
   "metadata": {
    "collapsed": false
   },
   "outputs": [
    {
     "ename": "NameError",
     "evalue": "name '陳' is not defined",
     "output_type": "error",
     "traceback": [
      "\u001b[0;31m---------------------------------------------------------------------------\u001b[0m",
      "\u001b[0;31mNameError\u001b[0m                                 Traceback (most recent call last)",
      "\u001b[0;32m<ipython-input-34-4ee9ce3b1e9d>\u001b[0m in \u001b[0;36m<module>\u001b[0;34m()\u001b[0m\n\u001b[0;32m----> 1\u001b[0;31m \u001b[0m陳\u001b[0m\u001b[0;34m,\u001b[0m\u001b[0m林\u001b[0m\u001b[0;34m,\u001b[0m\u001b[0m黃\u001b[0m\u001b[0;34m,\u001b[0m\u001b[0m張\u001b[0m\u001b[0;34m,\u001b[0m\u001b[0m李\u001b[0m\u001b[0;34m,\u001b[0m\u001b[0m王\u001b[0m\u001b[0;34m,\u001b[0m\u001b[0m吳\u001b[0m\u001b[0;34m,\u001b[0m\u001b[0m劉\u001b[0m\u001b[0;34m,\u001b[0m\u001b[0m蔡\u001b[0m\u001b[0;34m,\u001b[0m\u001b[0m楊\u001b[0m\u001b[0;34m,\u001b[0m\u001b[0m許\u001b[0m\u001b[0;34m,\u001b[0m\u001b[0m鄭\u001b[0m\u001b[0;34m,\u001b[0m\u001b[0m謝\u001b[0m\u001b[0;34m,\u001b[0m\u001b[0m洪\u001b[0m\u001b[0;34m,\u001b[0m\u001b[0m郭\u001b[0m\u001b[0;34m,\u001b[0m\u001b[0m邱\u001b[0m\u001b[0;34m,\u001b[0m\u001b[0m曾\u001b[0m\u001b[0;34m,\u001b[0m\u001b[0m廖\u001b[0m\u001b[0;34m,\u001b[0m\u001b[0m賴\u001b[0m\u001b[0;34m,\u001b[0m\u001b[0m徐\u001b[0m\u001b[0;34m,\u001b[0m\u001b[0m周\u001b[0m\u001b[0;34m,\u001b[0m\u001b[0m葉\u001b[0m\u001b[0;34m,\u001b[0m\u001b[0m蘇\u001b[0m\u001b[0;34m,\u001b[0m\u001b[0m莊\u001b[0m\u001b[0;34m,\u001b[0m\u001b[0m呂\u001b[0m\u001b[0;34m,\u001b[0m\u001b[0m江\u001b[0m\u001b[0;34m,\u001b[0m\u001b[0m何\u001b[0m\u001b[0;34m,\u001b[0m\u001b[0m蕭\u001b[0m\u001b[0;34m,\u001b[0m\u001b[0m羅\u001b[0m\u001b[0;34m,\u001b[0m\u001b[0m高\u001b[0m\u001b[0;34m,\u001b[0m\u001b[0m潘\u001b[0m\u001b[0;34m,\u001b[0m\u001b[0m簡\u001b[0m\u001b[0;34m,\u001b[0m\u001b[0m朱\u001b[0m\u001b[0;34m,\u001b[0m\u001b[0m鍾\u001b[0m\u001b[0;34m,\u001b[0m\u001b[0m彭\u001b[0m\u001b[0;34m,\u001b[0m\u001b[0m游\u001b[0m\u001b[0;34m,\u001b[0m\u001b[0m詹\u001b[0m\u001b[0;34m,\u001b[0m\u001b[0m胡\u001b[0m\u001b[0;34m,\u001b[0m\u001b[0m施\u001b[0m\u001b[0;34m,\u001b[0m\u001b[0m沈\u001b[0m\u001b[0;34m,\u001b[0m\u001b[0m余\u001b[0m\u001b[0;34m,\u001b[0m\u001b[0m盧\u001b[0m\u001b[0;34m,\u001b[0m\u001b[0m梁\u001b[0m\u001b[0;34m,\u001b[0m\u001b[0m趙\u001b[0m\u001b[0;34m,\u001b[0m\u001b[0m顏\u001b[0m\u001b[0;34m,\u001b[0m\u001b[0m柯\u001b[0m\u001b[0;34m,\u001b[0m\u001b[0m翁\u001b[0m\u001b[0;34m,\u001b[0m\u001b[0m魏\u001b[0m\u001b[0;34m,\u001b[0m\u001b[0m孫\u001b[0m\u001b[0;34m,\u001b[0m\u001b[0m戴\u001b[0m\u001b[0;34m,\u001b[0m\u001b[0m范\u001b[0m\u001b[0;34m,\u001b[0m\u001b[0m方\u001b[0m\u001b[0;34m,\u001b[0m\u001b[0m宋\u001b[0m\u001b[0;34m,\u001b[0m\u001b[0m鄧\u001b[0m\u001b[0;34m,\u001b[0m\u001b[0m杜\u001b[0m\u001b[0;34m,\u001b[0m\u001b[0m傅\u001b[0m\u001b[0;34m,\u001b[0m\u001b[0m侯\u001b[0m\u001b[0;34m,\u001b[0m\u001b[0m曹\u001b[0m\u001b[0;34m,\u001b[0m\u001b[0m薛\u001b[0m\u001b[0;34m,\u001b[0m\u001b[0m丁\u001b[0m\u001b[0;34m,\u001b[0m\u001b[0m卓\u001b[0m\u001b[0;34m,\u001b[0m\u001b[0m馬\u001b[0m\u001b[0;34m,\u001b[0m\u001b[0m阮\u001b[0m\u001b[0;34m,\u001b[0m\u001b[0m董\u001b[0m\u001b[0;34m\u001b[0m\u001b[0m\n\u001b[0m\u001b[1;32m      2\u001b[0m \u001b[0m林\u001b[0m\u001b[0;34m,\u001b[0m\u001b[0m張\u001b[0m\u001b[0;34m,\u001b[0m\u001b[0m王\u001b[0m\u001b[0;34m,\u001b[0m\u001b[0m劉\u001b[0m\u001b[0;34m,\u001b[0m\u001b[0m楊\u001b[0m\u001b[0;34m,\u001b[0m\u001b[0m鄭\u001b[0m\u001b[0;34m,\u001b[0m\u001b[0m洪\u001b[0m\u001b[0;34m,\u001b[0m\u001b[0m邱\u001b[0m\u001b[0;34m,\u001b[0m\u001b[0m廖\u001b[0m\u001b[0;34m,\u001b[0m\u001b[0m徐\u001b[0m\u001b[0;34m,\u001b[0m\u001b[0m葉\u001b[0m\u001b[0;34m,\u001b[0m\u001b[0m莊\u001b[0m\u001b[0;34m,\u001b[0m\u001b[0m江\u001b[0m\u001b[0;34m,\u001b[0m\u001b[0m蕭\u001b[0m\u001b[0;34m,\u001b[0m\u001b[0m高\u001b[0m\u001b[0;34m,\u001b[0m\u001b[0m簡\u001b[0m\u001b[0;34m,\u001b[0m\u001b[0m鍾\u001b[0m\u001b[0;34m,\u001b[0m\u001b[0m游\u001b[0m\u001b[0;34m,\u001b[0m\u001b[0m胡\u001b[0m\u001b[0;34m,\u001b[0m\u001b[0m沈\u001b[0m\u001b[0;34m,\u001b[0m\u001b[0m盧\u001b[0m\u001b[0;34m,\u001b[0m\u001b[0m趙\u001b[0m\u001b[0;34m,\u001b[0m\u001b[0m柯\u001b[0m\u001b[0;34m,\u001b[0m\u001b[0m魏\u001b[0m\u001b[0;34m,\u001b[0m\u001b[0m戴\u001b[0m\u001b[0;34m,\u001b[0m\u001b[0m方\u001b[0m\u001b[0;34m,\u001b[0m\u001b[0m鄧\u001b[0m\u001b[0;34m,\u001b[0m\u001b[0m傅\u001b[0m\u001b[0;34m,\u001b[0m\u001b[0m曹\u001b[0m\u001b[0;34m,\u001b[0m\u001b[0m丁\u001b[0m\u001b[0;34m,\u001b[0m\u001b[0m馬\u001b[0m\u001b[0;34m,\u001b[0m\u001b[0m董\u001b[0m\u001b[0;34m\u001b[0m\u001b[0m\n\u001b[1;32m      3\u001b[0m \u001b[0m黃\u001b[0m\u001b[0;34m,\u001b[0m\u001b[0m張\u001b[0m\u001b[0;34m,\u001b[0m\u001b[0m吳\u001b[0m\u001b[0;34m,\u001b[0m\u001b[0m劉\u001b[0m\u001b[0;34m,\u001b[0m\u001b[0m許\u001b[0m\u001b[0;34m,\u001b[0m\u001b[0m鄭\u001b[0m\u001b[0;34m,\u001b[0m\u001b[0m郭\u001b[0m\u001b[0;34m,\u001b[0m\u001b[0m邱\u001b[0m\u001b[0;34m,\u001b[0m\u001b[0m賴\u001b[0m\u001b[0;34m,\u001b[0m\u001b[0m徐\u001b[0m\u001b[0;34m,\u001b[0m\u001b[0m蘇\u001b[0m\u001b[0;34m,\u001b[0m\u001b[0m莊\u001b[0m\u001b[0;34m,\u001b[0m\u001b[0m何\u001b[0m\u001b[0;34m,\u001b[0m\u001b[0m蕭\u001b[0m\u001b[0;34m,\u001b[0m\u001b[0m潘\u001b[0m\u001b[0;34m,\u001b[0m\u001b[0m簡\u001b[0m\u001b[0;34m,\u001b[0m\u001b[0m彭\u001b[0m\u001b[0;34m,\u001b[0m\u001b[0m游\u001b[0m\u001b[0;34m,\u001b[0m\u001b[0m施\u001b[0m\u001b[0;34m,\u001b[0m\u001b[0m沈\u001b[0m\u001b[0;34m,\u001b[0m\u001b[0m梁\u001b[0m\u001b[0;34m,\u001b[0m\u001b[0m趙\u001b[0m\u001b[0;34m,\u001b[0m\u001b[0m翁\u001b[0m\u001b[0;34m,\u001b[0m\u001b[0m魏\u001b[0m\u001b[0;34m,\u001b[0m\u001b[0m范\u001b[0m\u001b[0;34m,\u001b[0m\u001b[0m方\u001b[0m\u001b[0;34m,\u001b[0m\u001b[0m杜\u001b[0m\u001b[0;34m,\u001b[0m\u001b[0m傅\u001b[0m\u001b[0;34m,\u001b[0m\u001b[0m薛\u001b[0m\u001b[0;34m,\u001b[0m\u001b[0m丁\u001b[0m\u001b[0;34m,\u001b[0m\u001b[0m阮\u001b[0m\u001b[0;34m,\u001b[0m\u001b[0m董\u001b[0m\u001b[0;34m\u001b[0m\u001b[0m\n\u001b[1;32m      4\u001b[0m \u001b[0m李\u001b[0m\u001b[0;34m,\u001b[0m\u001b[0m王\u001b[0m\u001b[0;34m,\u001b[0m\u001b[0m吳\u001b[0m\u001b[0;34m,\u001b[0m\u001b[0m劉\u001b[0m\u001b[0;34m,\u001b[0m\u001b[0m謝\u001b[0m\u001b[0;34m,\u001b[0m\u001b[0m洪\u001b[0m\u001b[0;34m,\u001b[0m\u001b[0m郭\u001b[0m\u001b[0;34m,\u001b[0m\u001b[0m邱\u001b[0m\u001b[0;34m,\u001b[0m\u001b[0m周\u001b[0m\u001b[0;34m,\u001b[0m\u001b[0m葉\u001b[0m\u001b[0;34m,\u001b[0m\u001b[0m蘇\u001b[0m\u001b[0;34m,\u001b[0m\u001b[0m莊\u001b[0m\u001b[0;34m,\u001b[0m\u001b[0m羅\u001b[0m\u001b[0;34m,\u001b[0m\u001b[0m高\u001b[0m\u001b[0;34m,\u001b[0m\u001b[0m潘\u001b[0m\u001b[0;34m,\u001b[0m\u001b[0m簡\u001b[0m\u001b[0;34m,\u001b[0m\u001b[0m詹\u001b[0m\u001b[0;34m,\u001b[0m\u001b[0m胡\u001b[0m\u001b[0;34m,\u001b[0m\u001b[0m施\u001b[0m\u001b[0;34m,\u001b[0m\u001b[0m沈\u001b[0m\u001b[0;34m,\u001b[0m\u001b[0m顏\u001b[0m\u001b[0;34m,\u001b[0m\u001b[0m柯\u001b[0m\u001b[0;34m,\u001b[0m\u001b[0m翁\u001b[0m\u001b[0;34m,\u001b[0m\u001b[0m魏\u001b[0m\u001b[0;34m,\u001b[0m\u001b[0m宋\u001b[0m\u001b[0;34m,\u001b[0m\u001b[0m鄧\u001b[0m\u001b[0;34m,\u001b[0m\u001b[0m杜\u001b[0m\u001b[0;34m,\u001b[0m\u001b[0m傅\u001b[0m\u001b[0;34m,\u001b[0m\u001b[0m卓\u001b[0m\u001b[0;34m,\u001b[0m\u001b[0m馬\u001b[0m\u001b[0;34m,\u001b[0m\u001b[0m阮\u001b[0m\u001b[0;34m,\u001b[0m\u001b[0m董\u001b[0m\u001b[0;34m\u001b[0m\u001b[0m\n\u001b[1;32m      5\u001b[0m \u001b[0m蔡\u001b[0m\u001b[0;34m,\u001b[0m\u001b[0m楊\u001b[0m\u001b[0;34m,\u001b[0m\u001b[0m許\u001b[0m\u001b[0;34m,\u001b[0m\u001b[0m鄭\u001b[0m\u001b[0;34m,\u001b[0m\u001b[0m謝\u001b[0m\u001b[0;34m,\u001b[0m\u001b[0m洪\u001b[0m\u001b[0;34m,\u001b[0m\u001b[0m郭\u001b[0m\u001b[0;34m,\u001b[0m\u001b[0m邱\u001b[0m\u001b[0;34m,\u001b[0m\u001b[0m呂\u001b[0m\u001b[0;34m,\u001b[0m\u001b[0m江\u001b[0m\u001b[0;34m,\u001b[0m\u001b[0m何\u001b[0m\u001b[0;34m,\u001b[0m\u001b[0m蕭\u001b[0m\u001b[0;34m,\u001b[0m\u001b[0m羅\u001b[0m\u001b[0;34m,\u001b[0m\u001b[0m高\u001b[0m\u001b[0;34m,\u001b[0m\u001b[0m潘\u001b[0m\u001b[0;34m,\u001b[0m\u001b[0m簡\u001b[0m\u001b[0;34m,\u001b[0m\u001b[0m余\u001b[0m\u001b[0;34m,\u001b[0m\u001b[0m盧\u001b[0m\u001b[0;34m,\u001b[0m\u001b[0m梁\u001b[0m\u001b[0;34m,\u001b[0m\u001b[0m趙\u001b[0m\u001b[0;34m,\u001b[0m\u001b[0m顏\u001b[0m\u001b[0;34m,\u001b[0m\u001b[0m柯\u001b[0m\u001b[0;34m,\u001b[0m\u001b[0m翁\u001b[0m\u001b[0;34m,\u001b[0m\u001b[0m魏\u001b[0m\u001b[0;34m,\u001b[0m\u001b[0m侯\u001b[0m\u001b[0;34m,\u001b[0m\u001b[0m曹\u001b[0m\u001b[0;34m,\u001b[0m\u001b[0m薛\u001b[0m\u001b[0;34m,\u001b[0m\u001b[0m丁\u001b[0m\u001b[0;34m,\u001b[0m\u001b[0m卓\u001b[0m\u001b[0;34m,\u001b[0m\u001b[0m馬\u001b[0m\u001b[0;34m,\u001b[0m\u001b[0m阮\u001b[0m\u001b[0;34m,\u001b[0m\u001b[0m董\u001b[0m\u001b[0;34m\u001b[0m\u001b[0m\n",
      "\u001b[0;31mNameError\u001b[0m: name '陳' is not defined"
     ]
    }
   ],
   "source": [
    "陳,林,黃,張,李,王,吳,劉,蔡,楊,許,鄭,謝,洪,郭,邱,曾,廖,賴,徐,周,葉,蘇,莊,呂,江,何,蕭,羅,高,潘,簡,朱,鍾,彭,游,詹,胡,施,沈,余,盧,梁,趙,顏,柯,翁,魏,孫,戴,范,方,宋,鄧,杜,傅,侯,曹,薛,丁,卓,馬,阮,董\n",
    "林,張,王,劉,楊,鄭,洪,邱,廖,徐,葉,莊,江,蕭,高,簡,鍾,游,胡,沈,盧,趙,柯,魏,戴,方,鄧,傅,曹,丁,馬,董\n",
    "黃,張,吳,劉,許,鄭,郭,邱,賴,徐,蘇,莊,何,蕭,潘,簡,彭,游,施,沈,梁,趙,翁,魏,范,方,杜,傅,薛,丁,阮,董\n",
    "李,王,吳,劉,謝,洪,郭,邱,周,葉,蘇,莊,羅,高,潘,簡,詹,胡,施,沈,顏,柯,翁,魏,宋,鄧,杜,傅,卓,馬,阮,董\n",
    "蔡,楊,許,鄭,謝,洪,郭,邱,呂,江,何,蕭,羅,高,潘,簡,余,盧,梁,趙,顏,柯,翁,魏,侯,曹,薛,丁,卓,馬,阮,董\n",
    "曾,廖,賴,徐,周,葉,蘇,莊,呂,江,何,蕭,羅,高,潘,簡,孫,戴,范,方,宋,鄧,杜,傅,侯,曹,薛,丁,卓,馬,阮,董\n",
    "朱,鍾,彭,游,詹,胡,施,沈,余,盧,梁,趙,顏,柯,翁,魏,孫,戴,范,方,宋,鄧,杜,傅,侯,曹,薛,丁,卓,馬,阮,董\n",
    "\n",
    "\n",
    "陳,林,黃,張,李,王,吳,劉,蔡,楊,許,鄭,謝,洪,郭,邱,曾,廖,賴,徐,周,葉,蘇,莊,呂,江,何,蕭,羅,高,潘,簡\n",
    "林,張,王,劉,楊,鄭,洪,邱,廖,徐,葉,莊,江,蕭,高,簡\n",
    "黃,張,吳,劉,許,鄭,郭,邱,賴,徐,蘇,莊,何,蕭,潘,簡\n",
    "李,王,吳,劉,謝,洪,郭,邱,周,葉,蘇,莊,羅,高,潘,簡\n",
    "蔡,楊,許,鄭,謝,洪,郭,邱,呂,江,何,蕭,羅,高,潘,簡\n",
    "曾,廖,賴,徐,周,葉,蘇,莊,呂,江,何,蕭,羅,高,潘,簡\n"
   ]
  },
  {
   "cell_type": "code",
   "execution_count": 20,
   "metadata": {
    "collapsed": false
   },
   "outputs": [
    {
     "name": "stdout",
     "output_type": "stream",
     "text": [
      "set()\n"
     ]
    }
   ],
   "source": [
    "Lst1 = [1, 2, 3]\n",
    "Lst2 = [2, 3, 1]\n",
    " \n",
    "#如果我想要知道以 Lst1 為主，和 Lst2 有哪裡不一樣\n",
    "#也就是說 刪除 Lst1 和 Lst2 重複一樣的東西之後將 Lst1 剩下來的傳回去\n",
    " \n",
    "s1 = set(Lst1)\n",
    "s2 = set(Lst2)\n",
    " \n",
    "print(s1.difference(s2)) #結果會是 set([1])\n"
   ]
  },
  {
   "cell_type": "code",
   "execution_count": 78,
   "metadata": {
    "collapsed": false
   },
   "outputs": [
    {
     "name": "stdout",
     "output_type": "stream",
     "text": [
      "$USEROUT=阿神.聖結石.菜喳.放火.舞秋風.小玉.鬼鬼.巧克白.槓槓.有感筆電\n",
      "$SYSTEMOUT=菜喳,聖結石,槓槓,阿神,放火,鬼鬼,巧克白,舞秋風,有感筆電,小玉\n",
      "$JUDGE_RESULT=WA\n",
      "$MESSAGE=您的答案比對不符合。\n",
      "$LINECOUNT=2\n"
     ]
    }
   ],
   "source": [
    "import sys\n",
    "import math\n",
    "from itertools import zip_longest\n",
    "\n",
    "result = {\"$JUDGE_RESULT\":\"\", \"$LINECOUNT\":\"\",\"$USEROUT\":\"\",\"$SYSTEMOUT\":\"\",\"$MESSAGE\":\"\"}\n",
    "\n",
    "def main(argv):\n",
    "#    if len(argv) != 3:\n",
    "#        print ('special.py [inputfile] [ansfile] [outputfile]')\n",
    "#        sys.exit(2)\n",
    "\n",
    "#    infile = open(argv[0], 'r', encoding='UTF-8')\n",
    "#    ansfile = open(argv[1], 'r', encoding='UTF-8')\n",
    "    #outfile = open(argv[2], 'r', encoding='UTF-8')\n",
    "    outfile = open('data.out', 'r', encoding='UTF-8')\n",
    "\n",
    "    zongbiao = outfile.readline().strip().split(',')\n",
    "\n",
    "    if len(zongbiao)<=10:\n",
    "        result[\"$JUDGE_RESULT\"]=\"WA\"\n",
    "        result[\"$LINECOUNT\"]=str(0)\n",
    "        result[\"$USEROUT\"]=','.join(zongbiao)\n",
    "        result[\"$SYSTEMOUT\"]=\"\"\n",
    "        result[\"$MESSAGE\"]=\"總表太短,必須有10個元素以上！\"\n",
    "        return\n",
    "\n",
    "    cards = {}\n",
    "    n = math.floor(math.log(len(zongbiao), 2))\n",
    "    for num in range(0, n):\n",
    "        cards['card'+str(num+1)] = list()\n",
    "\n",
    "    for index in range(0, len(zongbiao)):\n",
    "        for num in range(0, n):\n",
    "            if index&(2**num)>0:\n",
    "                cards['card'+str(num+1)].append(\"\".join(zongbiao[index].split()))\n",
    "    \n",
    "    for cardn in range(1, n+1):\n",
    "        #print(\"card\"+str(cardn))\n",
    "        line = outfile.readline().strip()\n",
    "        line = \"\".join(line.split())\n",
    "        card = line.split(',')\n",
    "        ans = set(cards['card'+str(cardn)])\n",
    "        user = set(card)\n",
    "        if len(ans.difference(user))!=0:\n",
    "            result[\"$JUDGE_RESULT\"]=\"WA\"\n",
    "            result[\"$LINECOUNT\"]=str(cardn)\n",
    "            result[\"$USEROUT\"]=','.join(user)\n",
    "            result[\"$SYSTEMOUT\"]=','.join(ans)\n",
    "            result[\"$MESSAGE\"]=\"您的答案 card\"+str(cardn)+\" 比對不符合。\"\n",
    "            return\n",
    "        \n",
    "    result[\"$JUDGE_RESULT\"]=\"AC\"\n",
    "\n",
    "if __name__ == \"__main__\":\n",
    "    main(sys.argv[1:])\n",
    "    for key in result:\n",
    "        print(key+\"=\"+result[key])\n",
    "        "
   ]
  },
  {
   "cell_type": "code",
   "execution_count": 45,
   "metadata": {
    "collapsed": false
   },
   "outputs": [
    {
     "name": "stdout",
     "output_type": "stream",
     "text": [
      "陳,林,黃,張,李,王,吳,劉,蔡,楊,許,鄭,謝,洪,郭,邱,曾,廖,賴,徐,周,葉,蘇,莊,呂,江,何,蕭,羅,高,潘,簡,朱,鍾,彭,游,詹,胡,施,沈,余,盧,梁,趙,顏,柯,翁,魏,孫,戴,范,方,宋,鄧,杜,傅,侯,曹,薛,丁,卓,馬,阮,董\n",
      "林,張,王,劉,楊,鄭,洪,邱,廖,徐,葉,莊,江,蕭,高,簡,鍾,游,胡,沈,盧,趙,柯,魏,戴,方,鄧,傅,曹,丁,馬,董\n",
      "黃,張,吳,劉,許,鄭,郭,邱,賴,徐,蘇,莊,何,蕭,潘,簡,彭,游,施,沈,梁,趙,翁,魏,范,方,杜,傅,薛,丁,阮,董\n",
      "李,王,吳,劉,謝,洪,郭,邱,周,葉,蘇,莊,羅,高,潘,簡,詹,胡,施,沈,顏,柯,翁,魏,宋,鄧,杜,傅,卓,馬,阮,董\n",
      "蔡,楊,許,鄭,謝,洪,郭,邱,呂,江,何,蕭,羅,高,潘,簡,余,盧,梁,趙,顏,柯,翁,魏,侯,曹,薛,丁,卓,馬,阮,董\n",
      "曾,廖,賴,徐,周,葉,蘇,莊,呂,江,何,蕭,羅,高,潘,簡,孫,戴,范,方,宋,鄧,杜,傅,侯,曹,薛,丁,卓,馬,阮,董\n",
      "朱,鍾,彭,游,詹,胡,施,沈,余,盧,梁,趙,顏,柯,翁,魏,孫,戴,范,方,宋,鄧,杜,傅,侯,曹,薛,丁,卓,馬,阮,董\n"
     ]
    }
   ],
   "source": [
    "print(\"陳,林,黃,張,李,王,吳,劉,蔡,楊,許,鄭,謝,洪,郭,邱,曾,廖,賴,徐,周,葉,蘇,莊,呂,江,何,蕭,羅,高,潘,簡,朱,鍾,彭,游,詹,胡,施,沈,余,盧,梁,趙,顏,柯,翁,魏,孫,戴,范,方,宋,鄧,杜,傅,侯,曹,薛,丁,卓,馬,阮,董\")\n",
    "print(\"林,張,王,劉,楊,鄭,洪,邱,廖,徐,葉,莊,江,蕭,高,簡,鍾,游,胡,沈,盧,趙,柯,魏,戴,方,鄧,傅,曹,丁,馬,董\")\n",
    "print(\"黃,張,吳,劉,許,鄭,郭,邱,賴,徐,蘇,莊,何,蕭,潘,簡,彭,游,施,沈,梁,趙,翁,魏,范,方,杜,傅,薛,丁,阮,董\")\n",
    "print(\"李,王,吳,劉,謝,洪,郭,邱,周,葉,蘇,莊,羅,高,潘,簡,詹,胡,施,沈,顏,柯,翁,魏,宋,鄧,杜,傅,卓,馬,阮,董\")\n",
    "print(\"蔡,楊,許,鄭,謝,洪,郭,邱,呂,江,何,蕭,羅,高,潘,簡,余,盧,梁,趙,顏,柯,翁,魏,侯,曹,薛,丁,卓,馬,阮,董\")\n",
    "print(\"曾,廖,賴,徐,周,葉,蘇,莊,呂,江,何,蕭,羅,高,潘,簡,孫,戴,范,方,宋,鄧,杜,傅,侯,曹,薛,丁,卓,馬,阮,董\")\n",
    "print(\"朱,鍾,彭,游,詹,胡,施,沈,余,盧,梁,趙,顏,柯,翁,魏,孫,戴,范,方,宋,鄧,杜,傅,侯,曹,薛,丁,卓,馬,阮,董\")\n"
   ]
  },
  {
   "cell_type": "code",
   "execution_count": null,
   "metadata": {
    "collapsed": true
   },
   "outputs": [],
   "source": [
    "print(\"陳,林,黃,張,李,王,吳,劉,蔡,楊,許,鄭,謝,洪,郭,邱,曾,廖,賴,徐,周,葉,蘇,莊,呂,江,何,蕭,羅,高,潘,簡\")\n",
    "print(\"林,張,王,劉,楊,鄭,洪,邱,廖,徐,葉,莊,江,蕭,高,簡\")\n",
    "print(\"黃,張,吳,劉,許,鄭,郭,邱,賴,徐,蘇,莊,何,蕭,潘,簡\")\n",
    "print(\"李,王,吳,劉,謝,洪,郭,邱,周,葉,蘇,莊,羅,高,潘,簡\")\n",
    "print(\"蔡,楊,許,鄭,謝,洪,郭,邱,呂,江,何,蕭,羅,高,潘,簡\")\n",
    "print(\"曾,廖,賴,徐,周,葉,蘇,莊,呂,江,何,蕭,羅,高,潘,簡\")\n"
   ]
  }
 ],
 "metadata": {
  "kernelspec": {
   "display_name": "Python 3",
   "language": "python",
   "name": "python3"
  }
 },
 "nbformat": 4,
 "nbformat_minor": 0
}
