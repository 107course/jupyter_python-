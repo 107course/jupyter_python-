{
 "cells": [
  {
   "cell_type": "markdown",
   "metadata": {},
   "source": [
    "### 1. Tuple\n",
    "##### 內容不可變、功能少、占空間小（若不希望內容被更動到時使用）"
   ]
  },
  {
   "cell_type": "code",
   "execution_count": 1,
   "metadata": {
    "collapsed": false
   },
   "outputs": [
    {
     "name": "stdout",
     "output_type": "stream",
     "text": [
      "(10, 12)\n"
     ]
    }
   ],
   "source": [
    "x = (10,12) # 用小掛號設定 tuple\n",
    "print(x)\n",
    "x[0] = 12  #無法更改內容\n",
    "x = (10,11)\n",
    "print(type(x))\n",
    "y = list(x)\n",
    "print(type(y))\n",
    "y[0] = 20\n",
    "print(y)"
   ]
  },
  {
   "cell_type": "markdown",
   "metadata": {},
   "source": [
    "### 2. 串列（List）\n",
    "##### 內容可變、功能多（常用）"
   ]
  },
  {
   "cell_type": "code",
   "execution_count": 22,
   "metadata": {
    "collapsed": false
   },
   "outputs": [
    {
     "name": "stdout",
     "output_type": "stream",
     "text": [
      "['A', 'B', 'C', 'D', 'E']\n",
      "['B', 'B', 'C', 'D', 'E']\n",
      "[1, 2, 3, 4, 5]\n",
      "1\n",
      "['A', 'B', 'C', 'D', 'E', 'F']\n",
      "['A', 'B', 'C', 'D', 'E', 'F', 'G', 'H', 'I']\n",
      "['A', '0', 'B', 'C', 'D', 'E', 'F', 'G', 'H', 'I']\n",
      "['A', 'B', 'C', 'D', 'E', 'F', 'G', 'H', 'I']\n",
      "E\n",
      "['A', 'B', 'C', 'D']\n",
      "1\n",
      "True\n",
      "False\n",
      "[1, 2, 3, 3, 4, 23, 98]\n"
     ]
    }
   ],
   "source": [
    "slist = [] # 用中括號設定 list\n",
    "slist = ['A','B','C','D','E']\n",
    "print(slist)\n",
    "slist[0] = 'B'\n",
    "print(slist)\n",
    "dlist = [['A','B','C','D','E'],[1,2,3,4,5]] # 雙重 List\n",
    "print(dlist[1])\n",
    "print(dlist[1][0])\n",
    "slist = ['A','B','C','D','E']\n",
    "slist.append('F') # 在最後增加單一個項目 => append\n",
    "print(slist)\n",
    "slist.extend(['G','H','I']) #在最後增加一個串列 => extend¶\n",
    "print(slist)\n",
    "slist.insert(1,'0')  #insert(位置,item) \n",
    "print(slist)\n",
    "del slist[1] #刪除指定位置項目 => del\n",
    "print(slist)\n",
    "plist = ['A','B','C','D','E']\n",
    "print(plist.pop()) #預設移出刪除最後一項 = pop(-1) , 若pop(0)則是移出開頭項\n",
    "print(plist)\n",
    "plist = ['A','B','B','C','D','E']\n",
    "print(plist.index('B'))  #找出項目值的位置 => index 只會找出第一個出現的位置\n",
    "clist = ['A','B','C','D','E']\n",
    "print('B' in clist) # 判斷項目是否存在於list中 => in\n",
    "print('F' in clist)\n",
    "wlist = ['D','A','F','C','E','D']\n",
    "sorted(wlist) # 排序 字典序\n",
    "nlist = [4,23,1,3,2,98,3]\n",
    "print(sorted(nlist)) # 排序"
   ]
  },
  {
   "cell_type": "markdown",
   "metadata": {},
   "source": [
    "### 3. 字典（Dictionary）\n",
    "##### 字典是 key, value pair，key要使用獨一無二的值（若使用到相同的key，會覆蓋原有的key value pair）"
   ]
  },
  {
   "cell_type": "code",
   "execution_count": 42,
   "metadata": {
    "collapsed": false
   },
   "outputs": [
    {
     "name": "stdout",
     "output_type": "stream",
     "text": [
      "{'Jack': 84, 'Ben': 63, 'Bob': 83, 'Cathy': 76}\n",
      "84\n",
      "{'Jack': [84, 23, 34], 'Ben': [63, 12, 74], 'Bob': [83, 81, 90], 'Cathy': [12, 43, 76]}\n",
      "[84, 23, 34]\n",
      "{'Jack': [1, 2, 3], 'Ben': [63, 12, 74], 'Bob': [83, 81, 90], 'Cathy': [12, 43, 76]}\n",
      "{'Jack': [1, 2, 3], 'Ben': [63, 12, 74], 'Cathy': [12, 43, 76], 'Eric': [93, 31, 32], 'William': [23, 43, 84], 'Bob': [83, 81, 90]}\n",
      "{'Jack': [1, 2, 3], 'Ben': [63, 12, 74], 'Cathy': [12, 43, 76], 'Eric': [93, 31, 32], 'Bob': [83, 81, 90]}\n",
      "True\n",
      "False\n",
      "dict_keys(['Jack', 'Ben', 'Cathy', 'Eric', 'Bob'])\n",
      "<class 'dict_keys'>\n",
      "Jack\n",
      "Ben\n",
      "Cathy\n",
      "Eric\n",
      "Bob\n",
      "['Jack', 'Ben', 'Cathy', 'Eric', 'Bob']\n",
      "<class 'dict_values'>\n",
      "[[1, 2, 3], [63, 12, 74], [12, 43, 76], [93, 31, 32], [83, 81, 90]]\n",
      "<class 'dict_items'>\n",
      "dict_items([('Jack', [1, 2, 3]), ('Ben', [63, 12, 74]), ('Cathy', [12, 43, 76]), ('Eric', [93, 31, 32]), ('Bob', [83, 81, 90])])\n",
      "[('Jack', [1, 2, 3]), ('Ben', [63, 12, 74]), ('Cathy', [12, 43, 76]), ('Eric', [93, 31, 32]), ('Bob', [83, 81, 90])]\n"
     ]
    }
   ],
   "source": [
    "dic = {'Jack':84,'Ben':63,'Cathy':76, 'Bob': 83} #用大掛號設定字典。\n",
    "print(dic)\n",
    "print(dic['Jack'])\n",
    "dic = {'Jack':[84,23,34],'Ben':[63,12,74],'Cathy':[12,43,76],'Bob': [83,81,90]}\n",
    "print(dic)\n",
    "print(dic['Jack'])\n",
    "dic['Jack'] = [1,2,3]\n",
    "print(dic)\n",
    "dic.update({'William':[23,43,84],'Eric':[93,31,32]}) # 新增 /合併字典 => update\n",
    "print(dic)\n",
    "del dic['William'] # 刪除項目 => del\n",
    "print(dic)\n",
    "print('Ben' in dic) # 判斷 key是否存在\n",
    "print('William' in dic )\n",
    "print(dic.keys()) # dict_keys\n",
    "print(type(dic.keys())) \n",
    "for key in dic.keys(): # 類似 list 的操作\n",
    "  print(key)\n",
    "print(list(dic.keys())) # 轉換成一個 list\n",
    "print(type(dic.values())) #not list\n",
    "print(list(dic.values())) # 轉換成 list\n",
    "print(type(dic.items())) # dict_items 取得所有的key value pair\n",
    "print(dic.items())\n",
    "print(list(dic.items())) # 轉成 list"
   ]
  },
  {
   "cell_type": "markdown",
   "metadata": {},
   "source": [
    "### 4. 集合（Set）\n",
    "#####  Set裡的值不會有重複（若有相同的值，程式會自動刪除）"
   ]
  },
  {
   "cell_type": "code",
   "execution_count": 11,
   "metadata": {
    "collapsed": false
   },
   "outputs": [
    {
     "name": "stdout",
     "output_type": "stream",
     "text": [
      "<class 'set'>\n",
      "{1, 2, 3, 4, 5}\n"
     ]
    }
   ],
   "source": [
    "set1 = set()\n",
    "set1 = {1,2,3,4,4,4,5} #用大掛號設定集合。\n",
    "print(type(set1))\n",
    "print(set1)"
   ]
  },
  {
   "cell_type": "code",
   "execution_count": 37,
   "metadata": {
    "collapsed": false
   },
   "outputs": [
    {
     "data": {
      "text/plain": [
       "True"
      ]
     },
     "execution_count": 37,
     "metadata": {},
     "output_type": "execute_result"
    }
   ],
   "source": [
    "# 判斷是否在集合中\n",
    "2 in set1"
   ]
  },
  {
   "cell_type": "code",
   "execution_count": 38,
   "metadata": {
    "collapsed": false
   },
   "outputs": [
    {
     "data": {
      "text/plain": [
       "{3, 4, 5, 6, 7}"
      ]
     },
     "execution_count": 38,
     "metadata": {},
     "output_type": "execute_result"
    }
   ],
   "source": [
    "set2 = {3,4,5,6,6,7}\n",
    "set2"
   ]
  },
  {
   "cell_type": "code",
   "execution_count": 39,
   "metadata": {
    "collapsed": false
   },
   "outputs": [
    {
     "data": {
      "text/plain": [
       "5"
      ]
     },
     "execution_count": 39,
     "metadata": {},
     "output_type": "execute_result"
    }
   ],
   "source": [
    "# set項目數\n",
    "len(set1)"
   ]
  },
  {
   "cell_type": "code",
   "execution_count": 40,
   "metadata": {
    "collapsed": false
   },
   "outputs": [
    {
     "data": {
      "text/plain": [
       "5"
      ]
     },
     "execution_count": 40,
     "metadata": {},
     "output_type": "execute_result"
    }
   ],
   "source": [
    "# 最大值\n",
    "max(set1)"
   ]
  },
  {
   "cell_type": "code",
   "execution_count": 41,
   "metadata": {
    "collapsed": false
   },
   "outputs": [
    {
     "data": {
      "text/plain": [
       "1"
      ]
     },
     "execution_count": 41,
     "metadata": {},
     "output_type": "execute_result"
    }
   ],
   "source": [
    "# 最小值\n",
    "min(set1)"
   ]
  },
  {
   "cell_type": "markdown",
   "metadata": {},
   "source": [
    "##### 增減項目"
   ]
  },
  {
   "cell_type": "code",
   "execution_count": 42,
   "metadata": {
    "collapsed": false
   },
   "outputs": [
    {
     "data": {
      "text/plain": [
       "{1, 2, 3, 4, 5, 6}"
      ]
     },
     "execution_count": 42,
     "metadata": {},
     "output_type": "execute_result"
    }
   ],
   "source": [
    "#增加\n",
    "set1.add(6)\n",
    "set1"
   ]
  },
  {
   "cell_type": "code",
   "execution_count": 43,
   "metadata": {
    "collapsed": false
   },
   "outputs": [
    {
     "data": {
      "text/plain": [
       "{1, 2, 3, 4, 5}"
      ]
     },
     "execution_count": 43,
     "metadata": {},
     "output_type": "execute_result"
    }
   ],
   "source": [
    "#減少\n",
    "set1.remove(6)\n",
    "set1"
   ]
  },
  {
   "cell_type": "markdown",
   "metadata": {},
   "source": [
    "##### 集合運算"
   ]
  },
  {
   "cell_type": "code",
   "execution_count": 44,
   "metadata": {
    "collapsed": false
   },
   "outputs": [
    {
     "data": {
      "text/plain": [
       "{3, 4, 5}"
      ]
     },
     "execution_count": 44,
     "metadata": {},
     "output_type": "execute_result"
    }
   ],
   "source": [
    "#交集\n",
    "set1&set2  #相等於set1.intersection(set2)"
   ]
  },
  {
   "cell_type": "code",
   "execution_count": 45,
   "metadata": {
    "collapsed": false
   },
   "outputs": [
    {
     "data": {
      "text/plain": [
       "{1, 2, 3, 4, 5, 6, 7}"
      ]
     },
     "execution_count": 45,
     "metadata": {},
     "output_type": "execute_result"
    }
   ],
   "source": [
    "#聯集\n",
    "set1|set2 #相等於set1.union(set2)"
   ]
  },
  {
   "cell_type": "code",
   "execution_count": 46,
   "metadata": {
    "collapsed": false
   },
   "outputs": [
    {
     "data": {
      "text/plain": [
       "{1, 2}"
      ]
     },
     "execution_count": 46,
     "metadata": {},
     "output_type": "execute_result"
    }
   ],
   "source": [
    "#差集\n",
    "set1-set2 #相等於set1.difference(set2)"
   ]
  },
  {
   "cell_type": "code",
   "execution_count": 47,
   "metadata": {
    "collapsed": false
   },
   "outputs": [
    {
     "data": {
      "text/plain": [
       "False"
      ]
     },
     "execution_count": 47,
     "metadata": {},
     "output_type": "execute_result"
    }
   ],
   "source": [
    "# 真子集\n",
    "set1<set2"
   ]
  },
  {
   "cell_type": "code",
   "execution_count": 48,
   "metadata": {
    "collapsed": false
   },
   "outputs": [
    {
     "data": {
      "text/plain": [
       "False"
      ]
     },
     "execution_count": 48,
     "metadata": {},
     "output_type": "execute_result"
    }
   ],
   "source": [
    "# 子集\n",
    "set1<=set2 #相等於set1.issubset(set2)"
   ]
  },
  {
   "cell_type": "code",
   "execution_count": 49,
   "metadata": {
    "collapsed": false
   },
   "outputs": [
    {
     "data": {
      "text/plain": [
       "False"
      ]
     },
     "execution_count": 49,
     "metadata": {},
     "output_type": "execute_result"
    }
   ],
   "source": [
    "# 母集/超集合\n",
    "set1>=set2"
   ]
  },
  {
   "cell_type": "code",
   "execution_count": 50,
   "metadata": {
    "collapsed": false
   },
   "outputs": [
    {
     "data": {
      "text/plain": [
       "False"
      ]
     },
     "execution_count": 50,
     "metadata": {},
     "output_type": "execute_result"
    }
   ],
   "source": [
    "# 判斷是否\"無\"交集\n",
    "set1.isdisjoint(set2)"
   ]
  }
 ],
 "metadata": {
  "anaconda-cloud": {},
  "kernelspec": {
   "display_name": "Python 3",
   "language": "python",
   "name": "python3"
  },
  "language_info": {
   "codemirror_mode": {
    "name": "ipython",
    "version": 3
   },
   "file_extension": ".py",
   "mimetype": "text/x-python",
   "name": "python",
   "nbconvert_exporter": "python",
   "pygments_lexer": "ipython3",
   "version": "3.5.1"
  }
 },
 "nbformat": 4,
 "nbformat_minor": 1
}
