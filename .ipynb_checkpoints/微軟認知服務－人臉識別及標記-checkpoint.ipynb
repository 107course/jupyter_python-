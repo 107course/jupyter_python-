{
 "cells": [
  {
   "cell_type": "markdown",
   "metadata": {},
   "source": [
    "臉部 API\n",
    "\n",
    "偵測、識別、分析、組織和標記相片中的臉孔\n",
    "\n",
    "30,000 筆交易，每分鐘 20 筆。\n",
    "端點: https://westcentralus.api.cognitive.microsoft.com/face/v1.0\n",
    "\n",
    "金鑰 1: ab4a7f41157e4592aa7cf47de4be49a1\n",
    "\n",
    "金鑰 2: 7440a5c1b7864d38ba3ff4b2111ac6bf\n",
    "\n",
    "官方範例：https://docs.microsoft.com/id-id/azure/cognitive-services/face/tutorials/faceapiinpythontutorial\n"
   ]
  },
  {
   "cell_type": "code",
   "execution_count": 1,
   "metadata": {
    "collapsed": false
   },
   "outputs": [
    {
     "name": "stdout",
     "output_type": "stream",
     "text": [
      "Collecting cognitive_face\n",
      "  Downloading cognitive_face-1.3.1.tar.gz\n",
      "Requirement already satisfied: requests in /Users/jiangsir/anaconda/lib/python3.5/site-packages (from cognitive_face)\n",
      "Building wheels for collected packages: cognitive-face\n",
      "  Running setup.py bdist_wheel for cognitive-face ... \u001b[?25l-\b \b\\\b \b|\b \bdone\n",
      "\u001b[?25h  Stored in directory: /Users/jiangsir/Library/Caches/pip/wheels/15/8a/98/034f581679b2160394470e0239c9d9960fd60b4a2032832ee5\n",
      "Successfully built cognitive-face\n",
      "Installing collected packages: cognitive-face\n",
      "Successfully installed cognitive-face-1.3.1\n"
     ]
    }
   ],
   "source": [
    "!pip install cognitive_face\n"
   ]
  },
  {
   "cell_type": "code",
   "execution_count": 8,
   "metadata": {
    "collapsed": false,
    "scrolled": true
   },
   "outputs": [
    {
     "ename": "CognitiveFaceException",
     "evalue": "Error when calling Cognitive Face API:\n\tstatus_code: 404\n\tcode: 404\n\tmessage: { \"statusCode\": 404, \"message\": \"Resource not found\" }\n",
     "output_type": "error",
     "traceback": [
      "\u001b[0;31m---------------------------------------------------------------------------\u001b[0m",
      "\u001b[0;31mKeyError\u001b[0m                                  Traceback (most recent call last)",
      "\u001b[0;32m/Users/jiangsir/anaconda/lib/python3.5/site-packages/cognitive_face/util.py\u001b[0m in \u001b[0;36mrequest\u001b[0;34m(method, url, data, json, headers, params)\u001b[0m\n\u001b[1;32m     92\u001b[0m         \u001b[0;32mtry\u001b[0m\u001b[0;34m:\u001b[0m\u001b[0;34m\u001b[0m\u001b[0m\n\u001b[0;32m---> 93\u001b[0;31m             \u001b[0merror_msg\u001b[0m \u001b[0;34m=\u001b[0m \u001b[0mresponse\u001b[0m\u001b[0;34m.\u001b[0m\u001b[0mjson\u001b[0m\u001b[0;34m(\u001b[0m\u001b[0;34m)\u001b[0m\u001b[0;34m[\u001b[0m\u001b[0;34m'error'\u001b[0m\u001b[0;34m]\u001b[0m\u001b[0;34m\u001b[0m\u001b[0m\n\u001b[0m\u001b[1;32m     94\u001b[0m         \u001b[0;32mexcept\u001b[0m\u001b[0;34m:\u001b[0m\u001b[0;34m\u001b[0m\u001b[0m\n",
      "\u001b[0;31mKeyError\u001b[0m: 'error'",
      "\nDuring handling of the above exception, another exception occurred:\n",
      "\u001b[0;31mCognitiveFaceException\u001b[0m                    Traceback (most recent call last)",
      "\u001b[0;32m<ipython-input-8-7070135537a5>\u001b[0m in \u001b[0;36m<module>\u001b[0;34m()\u001b[0m\n\u001b[1;32m     12\u001b[0m \u001b[0;31m# You can use this example JPG or replace the URL below with your own URL to a JPEG image.\u001b[0m\u001b[0;34m\u001b[0m\u001b[0;34m\u001b[0m\u001b[0m\n\u001b[1;32m     13\u001b[0m \u001b[0mimg_url\u001b[0m \u001b[0;34m=\u001b[0m \u001b[0;34m'https://raw.githubusercontent.com/Microsoft/Cognitive-Face-Windows/master/Data/detection1.jpg'\u001b[0m\u001b[0;34m\u001b[0m\u001b[0m\n\u001b[0;32m---> 14\u001b[0;31m \u001b[0mresult\u001b[0m \u001b[0;34m=\u001b[0m \u001b[0mCF\u001b[0m\u001b[0;34m.\u001b[0m\u001b[0mface\u001b[0m\u001b[0;34m.\u001b[0m\u001b[0mdetect\u001b[0m\u001b[0;34m(\u001b[0m\u001b[0mimg_url\u001b[0m\u001b[0;34m)\u001b[0m\u001b[0;34m\u001b[0m\u001b[0m\n\u001b[0m\u001b[1;32m     15\u001b[0m \u001b[0mprint\u001b[0m\u001b[0;34m(\u001b[0m\u001b[0mresult\u001b[0m\u001b[0;34m)\u001b[0m\u001b[0;34m\u001b[0m\u001b[0m\n",
      "\u001b[0;32m/Users/jiangsir/anaconda/lib/python3.5/site-packages/cognitive_face/face.py\u001b[0m in \u001b[0;36mdetect\u001b[0;34m(image, face_id, landmarks, attributes)\u001b[0m\n\u001b[1;32m     39\u001b[0m \u001b[0;34m\u001b[0m\u001b[0m\n\u001b[1;32m     40\u001b[0m     return util.request('POST', url, headers=headers, params=params, json=json,\n\u001b[0;32m---> 41\u001b[0;31m                         data=data)\n\u001b[0m\u001b[1;32m     42\u001b[0m \u001b[0;34m\u001b[0m\u001b[0m\n\u001b[1;32m     43\u001b[0m \u001b[0;34m\u001b[0m\u001b[0m\n",
      "\u001b[0;32m/Users/jiangsir/anaconda/lib/python3.5/site-packages/cognitive_face/util.py\u001b[0m in \u001b[0;36mrequest\u001b[0;34m(method, url, data, json, headers, params)\u001b[0m\n\u001b[1;32m     96\u001b[0m                 \u001b[0mresponse\u001b[0m\u001b[0;34m.\u001b[0m\u001b[0mstatus_code\u001b[0m\u001b[0;34m,\u001b[0m\u001b[0;34m\u001b[0m\u001b[0m\n\u001b[1;32m     97\u001b[0m                 \u001b[0mresponse\u001b[0m\u001b[0;34m.\u001b[0m\u001b[0mstatus_code\u001b[0m\u001b[0;34m,\u001b[0m\u001b[0;34m\u001b[0m\u001b[0m\n\u001b[0;32m---> 98\u001b[0;31m                 response.text)\n\u001b[0m\u001b[1;32m     99\u001b[0m         raise CognitiveFaceException(\n\u001b[1;32m    100\u001b[0m             \u001b[0mresponse\u001b[0m\u001b[0;34m.\u001b[0m\u001b[0mstatus_code\u001b[0m\u001b[0;34m,\u001b[0m\u001b[0;34m\u001b[0m\u001b[0m\n",
      "\u001b[0;31mCognitiveFaceException\u001b[0m: Error when calling Cognitive Face API:\n\tstatus_code: 404\n\tcode: 404\n\tmessage: { \"statusCode\": 404, \"message\": \"Resource not found\" }\n"
     ]
    }
   ],
   "source": [
    "# 這個範例似乎有錯！！！！\n",
    "\n",
    "import cognitive_face as CF\n",
    "\n",
    "KEY = 'ab4a7f41157e4592aa7cf47de4be49a1'  # Replace with a valid subscription key (keeping the quotes in place).\n",
    "CF.Key.set(KEY)\n",
    "\n",
    "#BASE_URL = 'https://westus.api.cognitive.microsoft.com/face/v1.0/'  # Replace with your regional Base URL\n",
    "BASE_URL = 'https://westcentralus.api.cognitive.microsoft.com/face/v1.0'  # Replace with your regional Base URL\n",
    "# westcentralus.api.cognitive.microsoft.com\n",
    "\n",
    "CF.BaseUrl.set(BASE_URL)\n",
    "\n",
    "# You can use this example JPG or replace the URL below with your own URL to a JPEG image.\n",
    "img_url = 'https://raw.githubusercontent.com/Microsoft/Cognitive-Face-Windows/master/Data/detection1.jpg'\n",
    "result = CF.face.detect(img_url)\n",
    "print(result)"
   ]
  },
  {
   "cell_type": "markdown",
   "metadata": {},
   "source": [
    "# Face Detect python example request\n",
    "Copy the appropriate section for your version of Python and save it to a file such as detect_faces.py.\n",
    "Replace the subscriptionKey value with your valid subscription key.\n",
    "Change the uri_base value to use the location where you obtained your subscription keys.\n",
    "Run the sample.\n",
    "## 官網範例！"
   ]
  },
  {
   "cell_type": "code",
   "execution_count": 9,
   "metadata": {
    "collapsed": false
   },
   "outputs": [
    {
     "name": "stdout",
     "output_type": "stream",
     "text": [
      "Response:\n",
      "[\n",
      "  {\n",
      "    \"faceAttributes\": {\n",
      "      \"accessories\": [],\n",
      "      \"age\": 22.9,\n",
      "      \"blur\": {\n",
      "        \"blurLevel\": \"low\",\n",
      "        \"value\": 0.06\n",
      "      },\n",
      "      \"emotion\": {\n",
      "        \"anger\": 0.0,\n",
      "        \"contempt\": 0.0,\n",
      "        \"disgust\": 0.0,\n",
      "        \"fear\": 0.0,\n",
      "        \"happiness\": 0.0,\n",
      "        \"neutral\": 0.986,\n",
      "        \"sadness\": 0.009,\n",
      "        \"surprise\": 0.005\n",
      "      },\n",
      "      \"exposure\": {\n",
      "        \"exposureLevel\": \"goodExposure\",\n",
      "        \"value\": 0.67\n",
      "      },\n",
      "      \"facialHair\": {\n",
      "        \"beard\": 0.0,\n",
      "        \"moustache\": 0.0,\n",
      "        \"sideburns\": 0.0\n",
      "      },\n",
      "      \"gender\": \"female\",\n",
      "      \"glasses\": \"NoGlasses\",\n",
      "      \"hair\": {\n",
      "        \"bald\": 0.0,\n",
      "        \"hairColor\": [\n",
      "          {\n",
      "            \"color\": \"brown\",\n",
      "            \"confidence\": 1.0\n",
      "          },\n",
      "          {\n",
      "            \"color\": \"black\",\n",
      "            \"confidence\": 0.87\n",
      "          },\n",
      "          {\n",
      "            \"color\": \"other\",\n",
      "            \"confidence\": 0.51\n",
      "          },\n",
      "          {\n",
      "            \"color\": \"blond\",\n",
      "            \"confidence\": 0.08\n",
      "          },\n",
      "          {\n",
      "            \"color\": \"red\",\n",
      "            \"confidence\": 0.08\n",
      "          },\n",
      "          {\n",
      "            \"color\": \"gray\",\n",
      "            \"confidence\": 0.02\n",
      "          }\n",
      "        ],\n",
      "        \"invisible\": false\n",
      "      },\n",
      "      \"headPose\": {\n",
      "        \"pitch\": 0.0,\n",
      "        \"roll\": 0.1,\n",
      "        \"yaw\": -32.9\n",
      "      },\n",
      "      \"makeup\": {\n",
      "        \"eyeMakeup\": true,\n",
      "        \"lipMakeup\": true\n",
      "      },\n",
      "      \"noise\": {\n",
      "        \"noiseLevel\": \"low\",\n",
      "        \"value\": 0.0\n",
      "      },\n",
      "      \"occlusion\": {\n",
      "        \"eyeOccluded\": false,\n",
      "        \"foreheadOccluded\": false,\n",
      "        \"mouthOccluded\": false\n",
      "      },\n",
      "      \"smile\": 0.0\n",
      "    },\n",
      "    \"faceId\": \"c59a6681-4b09-42ed-81cd-2414276a5e08\",\n",
      "    \"faceRectangle\": {\n",
      "      \"height\": 162,\n",
      "      \"left\": 177,\n",
      "      \"top\": 131,\n",
      "      \"width\": 162\n",
      "    }\n",
      "  }\n",
      "]\n"
     ]
    }
   ],
   "source": [
    "\n",
    "########### Python 3.6 #############\n",
    "import http.client, urllib.request, urllib.parse, urllib.error, base64, requests, json\n",
    "\n",
    "###############################################\n",
    "#### Update or verify the following values. ###\n",
    "###############################################\n",
    "\n",
    "# Replace the subscription_key string value with your valid subscription key.\n",
    "subscription_key = 'ab4a7f41157e4592aa7cf47de4be49a1'\n",
    "\n",
    "# Replace or verify the region.\n",
    "#\n",
    "# You must use the same region in your REST API call as you used to obtain your subscription keys.\n",
    "# For example, if you obtained your subscription keys from the westus region, replace \n",
    "# \"westcentralus\" in the URI below with \"westus\".\n",
    "#\n",
    "# NOTE: Free trial subscription keys are generated in the westcentralus region, so if you are using\n",
    "# a free trial subscription key, you should not need to change this region.\n",
    "uri_base = 'https://westcentralus.api.cognitive.microsoft.com'\n",
    "\n",
    "# Request headers.\n",
    "headers = {\n",
    "    'Content-Type': 'application/json',\n",
    "    'Ocp-Apim-Subscription-Key': subscription_key,\n",
    "}\n",
    "\n",
    "# Request parameters.\n",
    "params = {\n",
    "    'returnFaceId': 'true',\n",
    "    'returnFaceLandmarks': 'false',\n",
    "    'returnFaceAttributes': 'age,gender,headPose,smile,facialHair,glasses,emotion,hair,makeup,occlusion,accessories,blur,exposure,noise',\n",
    "}\n",
    "\n",
    "# Body. The URL of a JPEG image to analyze.\n",
    "body = {'url': 'https://upload.wikimedia.org/wikipedia/commons/c/c3/RH_Louise_Lillian_Gish.jpg'}\n",
    "\n",
    "try:\n",
    "    # Execute the REST API call and get the response.\n",
    "    response = requests.request('POST', uri_base + '/face/v1.0/detect', json=body, data=None, headers=headers, params=params)\n",
    "\n",
    "    print ('Response:')\n",
    "    parsed = json.loads(response.text)\n",
    "    print (json.dumps(parsed, sort_keys=True, indent=2))\n",
    "\n",
    "except Exception as e:\n",
    "    print('Error:')\n",
    "    print(e)\n",
    "\n",
    "####################################  "
   ]
  },
  {
   "cell_type": "code",
   "execution_count": 19,
   "metadata": {
    "collapsed": false
   },
   "outputs": [
    {
     "name": "stdout",
     "output_type": "stream",
     "text": [
      "OK\n"
     ]
    }
   ],
   "source": [
    "########### Python 3.2 #############\n",
    "import http.client, urllib.request, urllib.parse, urllib.error, base64, sys\n",
    "\n",
    "headers = {\n",
    "    # Request headers.\n",
    "    'Content-Type': 'application/json',\n",
    "\n",
    "    # NOTE: Replace the \"Ocp-Apim-Subscription-Key\" value with a valid subscription key.\n",
    "    'Ocp-Apim-Subscription-Key': 'ab4a7f41157e4592aa7cf47de4be49a1',\n",
    "}\n",
    "\n",
    "# Replace 'examplegroupid' with an ID you haven't used for creating a group before.\n",
    "# The valid characters for the ID include numbers, English letters in lower case, '-' and '_'. \n",
    "# The maximum length of the ID is 64.\n",
    "#personGroupId = 'examplegroupid'\n",
    "personGroupId = 'jiangsir_groupid2'\n",
    "\n",
    "# The userData field is optional. The size limit for it is 16KB.\n",
    "body = \"{ 'name':'group1', 'userData':'user-provided data attached to the person group' }\"\n",
    "\n",
    "try:\n",
    "    # NOTE: You must use the same location in your REST call as you used to obtain your subscription keys.\n",
    "    #   For example, if you obtained your subscription keys from westus, replace \"westcentralus\" in the \n",
    "    #   URL below with \"westus\".\n",
    "    conn = http.client.HTTPSConnection('westcentralus.api.cognitive.microsoft.com')\n",
    "    conn.request(\"PUT\", \"/face/v1.0/persongroups/%s\" % personGroupId, body, headers)\n",
    "    response = conn.getresponse()\n",
    "\n",
    "    # 'OK' indicates success. 'Conflict' means a group with this ID already exists.\n",
    "    # If you get 'Conflict', change the value of personGroupId above and try again.\n",
    "    # If you get 'Access Denied', verify the validity of the subscription key above and try again.\n",
    "    print(response.reason)\n",
    "\n",
    "    conn.close()\n",
    "except Exception as e:\n",
    "    print(e.args)\n",
    "####################################"
   ]
  },
  {
   "cell_type": "code",
   "execution_count": null,
   "metadata": {
    "collapsed": true
   },
   "outputs": [],
   "source": []
  },
  {
   "cell_type": "markdown",
   "metadata": {},
   "source": [
    "## 官方範例程式 在網頁最下方。\n",
    "https://westus.dev.cognitive.microsoft.com/docs/services/563879b61984550e40cbbe8d/operations/563879b61984550f3039523a\n",
    "\n"
   ]
  },
  {
   "cell_type": "markdown",
   "metadata": {},
   "source": [
    "Face - Verify\n",
    "Verify whether two faces belong to a same person or whether one face belongs to a person. \n",
    "\n",
    "Remarks:\n",
    "\n",
    "This API works well for frontal and near-frontal faces.\n",
    "For the scenarios that are sensitive to accuracy please make your own judgment.\n",
    "Http Method\n",
    "POST\n",
    "\n",
    "## 還要註冊一個 azure 帳號。\n",
    "要認信用卡，暫時打住。 ocp-apim-Subscription-Key 就是免費金鑰。不用再申請了。\n",
    "\n",
    "AZure 程式碼範例：https://azure.microsoft.com/zh-tw/resources/samples/?api=face&sort=0\n",
    "\n"
   ]
  },
  {
   "cell_type": "code",
   "execution_count": 16,
   "metadata": {
    "collapsed": false
   },
   "outputs": [
    {
     "name": "stdout",
     "output_type": "stream",
     "text": [
      "b'{\"error\":{\"code\":\"FaceNotFound\",\"message\":\"Face \\'c5c24a82-6845-4031-9d5d-978df9175426\\' is not found.\"}}'\n"
     ]
    }
   ],
   "source": [
    "########### Python 3.2 #############\n",
    "import http.client, urllib.request, urllib.parse, urllib.error, base64\n",
    "\n",
    "headers = {\n",
    "    # Request headers\n",
    "    'Content-Type': 'application/json',\n",
    "    'Ocp-Apim-Subscription-Key': 'ab4a7f41157e4592aa7cf47de4be49a1',\n",
    "}\n",
    "\n",
    "params = urllib.parse.urlencode({\n",
    "})\n",
    "\n",
    "requestbody = '{\"faceId\":\"c5c24a82-6845-4031-9d5d-978df9175426\",\"personId\":\"815df99c-598f-4926-930a-a734b3fd651c\",\"personGroupId\":\"sample_group\"}'\n",
    "\n",
    "try:\n",
    "    conn = http.client.HTTPSConnection('westcentralus.api.cognitive.microsoft.com') # 這裡換成 westcentralus.api\n",
    "    conn.request(\"POST\", \"/face/v1.0/verify?%s\" % params, requestbody, headers)\n",
    "    response = conn.getresponse()\n",
    "    data = response.read()\n",
    "    print(data)\n",
    "    conn.close()\n",
    "except Exception as e:\n",
    "    print(\"[Errno {0}] {1}\".format(e.errno, e.strerror))\n",
    "\n",
    "####################################"
   ]
  },
  {
   "cell_type": "code",
   "execution_count": 21,
   "metadata": {
    "collapsed": false
   },
   "outputs": [
    {
     "name": "stdout",
     "output_type": "stream",
     "text": [
      "b'{\"error\":{\"code\":\"PersonGroupNotTrained\",\"message\":\"Person group \\'jiangsir_groupid\\' not trained.\"}}'\n"
     ]
    }
   ],
   "source": [
    "# 檢查 personGroup 的狀況 status\n",
    "\n",
    "########### Python 3.2 #############\n",
    "import http.client, urllib.request, urllib.parse, urllib.error, base64\n",
    "\n",
    "headers = {\n",
    "    # Request headers\n",
    "    'Ocp-Apim-Subscription-Key': 'ab4a7f41157e4592aa7cf47de4be49a1',\n",
    "}\n",
    "\n",
    "params = urllib.parse.urlencode({\n",
    "})\n",
    "\n",
    "try:\n",
    "    conn = http.client.HTTPSConnection('westcentralus.api.cognitive.microsoft.com')\n",
    "    conn.request(\"GET\", \"/face/v1.0/persongroups/jiangsir_groupid/training?%s\" % params, \"{body}\", headers)\n",
    "    response = conn.getresponse()\n",
    "    data = response.read()\n",
    "    print(data)\n",
    "    conn.close()\n",
    "except Exception as e:\n",
    "    print(\"[Errno {0}] {1}\".format(e.errno, e.strerror))\n",
    "\n",
    "####################################"
   ]
  },
  {
   "cell_type": "code",
   "execution_count": null,
   "metadata": {
    "collapsed": true
   },
   "outputs": [],
   "source": [
    "# 開始訓練 personGroups \n",
    "\n",
    "########### Python 3.2 #############\n",
    "import http.client, urllib.request, urllib.parse, urllib.error, base64\n",
    "\n",
    "headers = {\n",
    "    # Request headers\n",
    "    'Ocp-Apim-Subscription-Key': 'ab4a7f41157e4592aa7cf47de4be49a1',\n",
    "}\n",
    "\n",
    "params = urllib.parse.urlencode({\n",
    "})\n",
    "\n",
    "try:\n",
    "    conn = http.client.HTTPSConnection('westcentralus.api.cognitive.microsoft.com')\n",
    "    conn.request(\"POST\", \"/face/v1.0/persongroups/{personGroupId}/train?%s\" % params, \"{body}\", headers)\n",
    "    response = conn.getresponse()\n",
    "    data = response.read()\n",
    "    print(data)\n",
    "    conn.close()\n",
    "except Exception as e:\n",
    "    print(\"[Errno {0}] {1}\".format(e.errno, e.strerror))\n",
    "\n",
    "####################################"
   ]
  }
 ],
 "metadata": {
  "kernelspec": {
   "display_name": "Python 3",
   "language": "python",
   "name": "python3"
  },
  "language_info": {
   "codemirror_mode": {
    "name": "ipython",
    "version": 3
   },
   "file_extension": ".py",
   "mimetype": "text/x-python",
   "name": "python",
   "nbconvert_exporter": "python",
   "pygments_lexer": "ipython3",
   "version": "3.5.1"
  }
 },
 "nbformat": 4,
 "nbformat_minor": 0
}
