{
 "cells": [
  {
   "cell_type": "markdown",
   "metadata": {},
   "source": [
    "## 依據官網參考資料\n",
    "https://docs.microsoft.com/en-us/azure/cognitive-services/face/face-api-how-to-topics/howtoidentifyfacesinimage#step3\n",
    "\n",
    "總共五個步驟 \n",
    "1. Detecting faces using the Face - Detect API 偵測人臉\n",
    "\n",
    "2. Creating person groups using the Person Group - Create a Person Group API 建立人物群組\n",
    "\n",
    "3. Creating persons using the Person - Create a Person API 建立人物\n",
    "\n",
    "4. Train a person group using the Person Group – Train Person Group API 訓練人物群組\n",
    "\n",
    "5. Identifying unknown faces against the person group using the Face - Identify API 人臉辨識\n",
    "\n",
    "臉部 API\n",
    "\n",
    "偵測、識別、分析、組織和標記相片中的臉孔\n",
    "\n",
    "30,000 筆交易，每分鐘 20 筆。\n",
    "\n",
    "端點: https://westcentralus.api.cognitive.microsoft.com/face/v1.0\n",
    "\n",
    "金鑰 1: ab4a7f41157e4592aa7cf47de4be49a1\n",
    "\n",
    "金鑰 2: 7440a5c1b7864d38ba3ff4b2111ac6bf\n",
    "\n",
    "官方範例：https://docs.microsoft.com/id-id/azure/cognitive-services/face/tutorials/faceapiinpythontutorial\n",
    "\n"
   ]
  },
  {
   "cell_type": "code",
   "execution_count": 26,
   "metadata": {
    "collapsed": false
   },
   "outputs": [
    {
     "name": "stdout",
     "output_type": "stream",
     "text": [
      "b'[{\"faceId\":\"b2fcd8f8-3c6a-4796-8eaa-312e34786976\",\"faceRectangle\":{\"top\":289,\"left\":196,\"width\":247,\"height\":247},\"faceAttributes\":{\"smile\":0.999,\"headPose\":{\"pitch\":0.0,\"roll\":24.5,\"yaw\":5.8},\"gender\":\"male\",\"age\":30.6,\"facialHair\":{\"moustache\":0.0,\"beard\":0.3,\"sideburns\":0.0},\"glasses\":\"ReadingGlasses\",\"emotion\":{\"anger\":0.0,\"contempt\":0.0,\"disgust\":0.0,\"fear\":0.0,\"happiness\":0.999,\"neutral\":0.001,\"sadness\":0.0,\"surprise\":0.0},\"blur\":{\"blurLevel\":\"low\",\"value\":0.0},\"exposure\":{\"exposureLevel\":\"goodExposure\",\"value\":0.7},\"makeup\":{\"eyeMakeup\":false,\"lipMakeup\":false},\"accessories\":[{\"type\":\"glasses\",\"confidence\":0.99}],\"occlusion\":{\"foreheadOccluded\":false,\"eyeOccluded\":false,\"mouthOccluded\":false},\"hair\":{\"bald\":0.01,\"invisible\":false,\"hairColor\":[{\"color\":\"black\",\"confidence\":1.0},{\"color\":\"brown\",\"confidence\":0.53},{\"color\":\"other\",\"confidence\":0.39},{\"color\":\"red\",\"confidence\":0.21},{\"color\":\"blond\",\"confidence\":0.12},{\"color\":\"gray\",\"confidence\":0.08}]}}}]'\n",
      "b'[{\"faceId\":\"6f988d40-fff4-4d22-9700-fe1cf4639e9d\",\"faceRectangle\":{\"top\":383,\"left\":59,\"width\":285,\"height\":285},\"faceAttributes\":{\"smile\":0.018,\"headPose\":{\"pitch\":0.0,\"roll\":4.5,\"yaw\":-3.3},\"gender\":\"male\",\"age\":32.9,\"facialHair\":{\"moustache\":0.1,\"beard\":0.2,\"sideburns\":0.0},\"glasses\":\"ReadingGlasses\",\"emotion\":{\"anger\":0.0,\"contempt\":0.006,\"disgust\":0.001,\"fear\":0.0,\"happiness\":0.018,\"neutral\":0.956,\"sadness\":0.018,\"surprise\":0.0},\"blur\":{\"blurLevel\":\"low\",\"value\":0.0},\"exposure\":{\"exposureLevel\":\"goodExposure\",\"value\":0.65},\"makeup\":{\"eyeMakeup\":false,\"lipMakeup\":false},\"accessories\":[{\"type\":\"glasses\",\"confidence\":0.99}],\"occlusion\":{\"foreheadOccluded\":false,\"eyeOccluded\":false,\"mouthOccluded\":false},\"hair\":{\"bald\":0.01,\"invisible\":false,\"hairColor\":[{\"color\":\"black\",\"confidence\":0.99},{\"color\":\"brown\",\"confidence\":0.71},{\"color\":\"other\",\"confidence\":0.27},{\"color\":\"red\",\"confidence\":0.26},{\"color\":\"blond\",\"confidence\":0.19},{\"color\":\"gray\",\"confidence\":0.09}]}}}]'\n",
      "b'[{\"faceId\":\"8158913c-699a-49bc-ae5e-060133881e55\",\"faceRectangle\":{\"top\":400,\"left\":111,\"width\":277,\"height\":277},\"faceAttributes\":{\"smile\":0.022,\"headPose\":{\"pitch\":0.0,\"roll\":4.8,\"yaw\":-9.5},\"gender\":\"male\",\"age\":36.5,\"facialHair\":{\"moustache\":0.0,\"beard\":0.1,\"sideburns\":0.0},\"glasses\":\"ReadingGlasses\",\"emotion\":{\"anger\":0.0,\"contempt\":0.002,\"disgust\":0.0,\"fear\":0.0,\"happiness\":0.022,\"neutral\":0.974,\"sadness\":0.001,\"surprise\":0.0},\"blur\":{\"blurLevel\":\"low\",\"value\":0.0},\"exposure\":{\"exposureLevel\":\"goodExposure\",\"value\":0.73},\"makeup\":{\"eyeMakeup\":false,\"lipMakeup\":false},\"accessories\":[{\"type\":\"glasses\",\"confidence\":0.98}],\"occlusion\":{\"foreheadOccluded\":false,\"eyeOccluded\":false,\"mouthOccluded\":false},\"hair\":{\"bald\":0.02,\"invisible\":false,\"hairColor\":[{\"color\":\"black\",\"confidence\":1.0},{\"color\":\"brown\",\"confidence\":0.55},{\"color\":\"red\",\"confidence\":0.27},{\"color\":\"other\",\"confidence\":0.25},{\"color\":\"gray\",\"confidence\":0.13},{\"color\":\"blond\",\"confidence\":0.09}]}}}]'\n",
      "b'[{\"faceId\":\"0380e815-2060-4964-941e-bc4a5c8e125b\",\"faceRectangle\":{\"top\":323,\"left\":131,\"width\":292,\"height\":292},\"faceAttributes\":{\"smile\":0.082,\"headPose\":{\"pitch\":0.0,\"roll\":2.0,\"yaw\":-9.0},\"gender\":\"male\",\"age\":33.9,\"facialHair\":{\"moustache\":0.1,\"beard\":0.3,\"sideburns\":0.0},\"glasses\":\"ReadingGlasses\",\"emotion\":{\"anger\":0.0,\"contempt\":0.002,\"disgust\":0.0,\"fear\":0.0,\"happiness\":0.082,\"neutral\":0.915,\"sadness\":0.0,\"surprise\":0.0},\"blur\":{\"blurLevel\":\"low\",\"value\":0.0},\"exposure\":{\"exposureLevel\":\"goodExposure\",\"value\":0.69},\"makeup\":{\"eyeMakeup\":true,\"lipMakeup\":false},\"accessories\":[{\"type\":\"glasses\",\"confidence\":0.99}],\"occlusion\":{\"foreheadOccluded\":false,\"eyeOccluded\":false,\"mouthOccluded\":false},\"hair\":{\"bald\":0.01,\"invisible\":false,\"hairColor\":[{\"color\":\"black\",\"confidence\":1.0},{\"color\":\"brown\",\"confidence\":0.81},{\"color\":\"other\",\"confidence\":0.27},{\"color\":\"red\",\"confidence\":0.13},{\"color\":\"gray\",\"confidence\":0.08},{\"color\":\"blond\",\"confidence\":0.05}]}}}]'\n",
      "b'[{\"faceId\":\"b2fcd8f8-3c6a-4796-8eaa-312e34786976\",\"faceRectangle\":{\"top\":289,\"left\":196,\"width\":247,\"height\":247},\"faceAttributes\":{\"smile\":0.999,\"headPose\":{\"pitch\":0.0,\"roll\":24.5,\"yaw\":5.8},\"gender\":\"male\",\"age\":30.6,\"facialHair\":{\"moustache\":0.0,\"beard\":0.3,\"sideburns\":0.0},\"glasses\":\"ReadingGlasses\",\"emotion\":{\"anger\":0.0,\"contempt\":0.0,\"disgust\":0.0,\"fear\":0.0,\"happiness\":0.999,\"neutral\":0.001,\"sadness\":0.0,\"surprise\":0.0},\"blur\":{\"blurLevel\":\"low\",\"value\":0.0},\"exposure\":{\"exposureLevel\":\"goodExposure\",\"value\":0.7},\"makeup\":{\"eyeMakeup\":false,\"lipMakeup\":false},\"accessories\":[{\"type\":\"glasses\",\"confidence\":0.99}],\"occlusion\":{\"foreheadOccluded\":false,\"eyeOccluded\":false,\"mouthOccluded\":false},\"hair\":{\"bald\":0.01,\"invisible\":false,\"hairColor\":[{\"color\":\"black\",\"confidence\":1.0},{\"color\":\"brown\",\"confidence\":0.53},{\"color\":\"other\",\"confidence\":0.39},{\"color\":\"red\",\"confidence\":0.21},{\"color\":\"blond\",\"confidence\":0.12},{\"color\":\"gray\",\"confidence\":0.08}]}}}]'\n",
      "['b2fcd8f8-3c6a-4796-8eaa-312e34786976', '6f988d40-fff4-4d22-9700-fe1cf4639e9d', '8158913c-699a-49bc-ae5e-060133881e55', '0380e815-2060-4964-941e-bc4a5c8e125b', 'b2fcd8f8-3c6a-4796-8eaa-312e34786976']\n"
     ]
    }
   ],
   "source": [
    "## 第一步：偵測相片，獲得 faceId\n",
    "\n",
    "########### Python 3.2 #############\n",
    "import http.client, urllib.request, urllib.parse, urllib.error, base64, json\n",
    "\n",
    "faceids = []\n",
    "\n",
    "def Detecting(url):\n",
    "    headers = {\n",
    "        # Request headers\n",
    "        'Content-Type': 'application/json',\n",
    "        'Ocp-Apim-Subscription-Key': 'ab4a7f41157e4592aa7cf47de4be49a1',\n",
    "    }\n",
    "\n",
    "    params = urllib.parse.urlencode({\n",
    "        # Request parameters\n",
    "        'returnFaceId': 'true',\n",
    "        'returnFaceLandmarks': 'false',\n",
    "        'returnFaceAttributes': 'age,gender,headPose,smile,facialHair,glasses,emotion,hair,makeup,occlusion,accessories,blur,exposure',\n",
    "    })\n",
    "\n",
    "    requestbody = '{\"url\":\"'+url+'\"}'\n",
    "\n",
    "    try:\n",
    "        conn = http.client.HTTPSConnection('westcentralus.api.cognitive.microsoft.com')\n",
    "        conn.request(\"POST\", \"/face/v1.0/detect?%s\" % params, requestbody, headers)\n",
    "        response = conn.getresponse()\n",
    "        data = response.read()\n",
    "        print(data)\n",
    "        parsed = json.loads(str(data,'UTF-8'))\n",
    "        #print(parsed[0]['faceId'])\n",
    "        faceids.append(parsed[0]['faceId'])\n",
    "        conn.close()\n",
    "    except Exception as e:\n",
    "        print(\"[Errno {0}] {1}\".format(e.errno, e.strerror))\n",
    "\n",
    "####################################\n",
    "\n",
    "Detecting(\"https://lh3.googleusercontent.com/AuJtzSdWCTZ6pWW9pMxec86gVZEjP00O7qvl8RNbzYfmJvsiUfDL-BXfel5Sw2jgPNUy7rcIVQ-HFDxDEFuIZxp56NpKwOjYncgMjL_dt0-FnoBIYyUpplx4LlE5ShN2hJ3-URLwOA4=w597-h796-no\")\n",
    "Detecting(\"https://lh3.googleusercontent.com/FywffrCKSfzhFoGenppzlH_GXPeGCOT9HvizxLXOziZ2FSAvaTgFwevxanp3hv7Zntt1o80PI84PtsZC7zXvwFfK3o-boWuEPlsjmRoUCqT3ll-WdN3h7mq9lI2akW6VwVXsOiQmKmc=w597-h796-no\")\n",
    "Detecting(\"https://lh3.googleusercontent.com/7bgf-psmqPJBg78Y9WNCqEP9cfIr3-XOmykuXYO2JSbpGTMG3nZ9RCuizoJbJJr-dJLkqFN6mGzGH6nmv8p3aT1RiTLHGoNmnpGnw7t-j5RCij23v85ZK0NJnKzjuZDI9wkxivttBgY=w597-h796-no\")\n",
    "Detecting(\"https://lh3.googleusercontent.com/vXifjUB85Yy4IgnxX5_c83kXwF_x9eQHheHVUNVokpB0RZNpOgwijo5jclRbTxywlQaJzpZiDJlYtgI7zyYfBfIml5YeCpf0qwTqLGtfH1wiznF8rSY2pPGcNxEqJidLup5zSAUhRdg=w597-h796-no\")\n",
    "Detecting(\"https://lh3.googleusercontent.com/AuJtzSdWCTZ6pWW9pMxec86gVZEjP00O7qvl8RNbzYfmJvsiUfDL-BXfel5Sw2jgPNUy7rcIVQ-HFDxDEFuIZxp56NpKwOjYncgMjL_dt0-FnoBIYyUpplx4LlE5ShN2hJ3-URLwOA4=w597-h796-no\")\n",
    "\n",
    "print(faceids)"
   ]
  },
  {
   "cell_type": "code",
   "execution_count": 36,
   "metadata": {
    "collapsed": false
   },
   "outputs": [
    {
     "name": "stdout",
     "output_type": "stream",
     "text": [
      "b''\n"
     ]
    }
   ],
   "source": [
    "## 建立一個 facelist 以便加入 face。\n",
    "\n",
    "########### Python 3.2 #############\n",
    "import http.client, urllib.request, urllib.parse, urllib.error, base64\n",
    "\n",
    "headers = {\n",
    "    # Request headers\n",
    "    'Content-Type': 'application/json',\n",
    "    'Ocp-Apim-Subscription-Key': 'ab4a7f41157e4592aa7cf47de4be49a1',\n",
    "}\n",
    "\n",
    "params = urllib.parse.urlencode({\n",
    "    \"faceListId\":\"jiangsir_facelistid\"\n",
    "})\n",
    "\n",
    "requestbody = '{\"name\":\"jiangsir_facelistid\",\"userData\":\"jiangsir add userData. User-provided data attached to the face list\"}'\n",
    "\n",
    "try:\n",
    "    conn = http.client.HTTPSConnection('westcentralus.api.cognitive.microsoft.com')\n",
    "    conn.request(\"PUT\", \"/face/v1.0/facelists/{faceListId}?%s\" % params, requestbody, headers)\n",
    "    response = conn.getresponse()\n",
    "    data = response.read()\n",
    "    print(data)\n",
    "    conn.close()\n",
    "except Exception as e:\n",
    "    print(\"[Errno {0}] {1}\".format(e.errno, e.strerror))\n",
    "\n",
    "####################################"
   ]
  },
  {
   "cell_type": "code",
   "execution_count": 37,
   "metadata": {
    "collapsed": false
   },
   "outputs": [
    {
     "name": "stdout",
     "output_type": "stream",
     "text": [
      "b'[{\"faceListId\":\"jiangsir_facelistid\",\"name\":\"jiangsir_facelistid\",\"userData\":\"jiangsir add userData. User-provided data attached to the face list\"}]'\n"
     ]
    }
   ],
   "source": [
    "## 列出現有的 facelist\n",
    "\n",
    "########### Python 3.2 #############\n",
    "import http.client, urllib.request, urllib.parse, urllib.error, base64\n",
    "\n",
    "headers = {\n",
    "    # Request headers\n",
    "    'Ocp-Apim-Subscription-Key': 'ab4a7f41157e4592aa7cf47de4be49a1',\n",
    "}\n",
    "\n",
    "params = urllib.parse.urlencode({\n",
    "})\n",
    "\n",
    "try:\n",
    "    conn = http.client.HTTPSConnection('westcentralus.api.cognitive.microsoft.com')\n",
    "    conn.request(\"GET\", \"/face/v1.0/facelists?%s\" % params, \"{body}\", headers)\n",
    "    response = conn.getresponse()\n",
    "    data = response.read()\n",
    "    print(data)\n",
    "    conn.close()\n",
    "except Exception as e:\n",
    "    print(\"[Errno {0}] {1}\".format(e.errno, e.strerror))\n",
    "\n",
    "####################################"
   ]
  },
  {
   "cell_type": "code",
   "execution_count": 39,
   "metadata": {
    "collapsed": false
   },
   "outputs": [
    {
     "name": "stdout",
     "output_type": "stream",
     "text": [
      "b'{\"persistedFaceId\":\"111e99af-490c-4f23-aee8-b8846f190b92\"}'\n"
     ]
    }
   ],
   "source": [
    "## 將 圖片偵測後加入 facelist 以便獲得 persistedfaceid 不會過期，否則 24 小時就會過期。\n",
    "\n",
    "########### Python 3.2 #############\n",
    "import http.client, urllib.request, urllib.parse, urllib.error, base64\n",
    "\n",
    "headers = {\n",
    "    # Request headers\n",
    "    'Content-Type': 'application/json',\n",
    "    'Ocp-Apim-Subscription-Key': 'ab4a7f41157e4592aa7cf47de4be49a1',\n",
    "}\n",
    "\n",
    "#0380e815-2060-4964-941e-bc4a5c8e125b\n",
    "params = urllib.parse.urlencode({\n",
    "    # Request parameters\n",
    "    'faceListId': 'jiangsir_facelistid',\n",
    "    #'userData': '{string}',\n",
    "    #'targetFace': '{string}',\n",
    "})\n",
    "\n",
    "requestbody = '{\"url\":\"https://lh3.googleusercontent.com/AuJtzSdWCTZ6pWW9pMxec86gVZEjP00O7qvl8RNbzYfmJvsiUfDL-BXfel5Sw2jgPNUy7rcIVQ-HFDxDEFuIZxp56NpKwOjYncgMjL_dt0-FnoBIYyUpplx4LlE5ShN2hJ3-URLwOA4=w597-h796-no\"}'\n",
    "\n",
    "try:\n",
    "    conn = http.client.HTTPSConnection('westcentralus.api.cognitive.microsoft.com')\n",
    "    conn.request(\"POST\", \"/face/v1.0/facelists/jiangsir_facelistid/persistedFaces?%s\" % params, requestbody, headers)\n",
    "    response = conn.getresponse()\n",
    "    data = response.read()\n",
    "    print(data)\n",
    "    conn.close()\n",
    "except Exception as e:\n",
    "    print(\"[Errno {0}] {1}\".format(e.errno, e.strerror))\n",
    "\n",
    "####################################"
   ]
  },
  {
   "cell_type": "code",
   "execution_count": 27,
   "metadata": {
    "collapsed": false
   },
   "outputs": [
    {
     "name": "stdout",
     "output_type": "stream",
     "text": [
      "Conflict\n"
     ]
    }
   ],
   "source": [
    "## 第二步：建立 person group\n",
    "\n",
    "########### Python 3.2 #############\n",
    "import http.client, urllib.request, urllib.parse, urllib.error, base64, sys\n",
    "\n",
    "headers = {\n",
    "    # Request headers.\n",
    "    'Content-Type': 'application/json',\n",
    "\n",
    "    # NOTE: Replace the \"Ocp-Apim-Subscription-Key\" value with a valid subscription key.\n",
    "    'Ocp-Apim-Subscription-Key': 'ab4a7f41157e4592aa7cf47de4be49a1',\n",
    "}\n",
    "\n",
    "# Replace 'examplegroupid' with an ID you haven't used for creating a group before.\n",
    "# The valid characters for the ID include numbers, English letters in lower case, '-' and '_'. \n",
    "# The maximum length of the ID is 64.\n",
    "#personGroupId = 'examplegroupid'\n",
    "personGroupId = 'jiangsir_groupid2'\n",
    "\n",
    "# The userData field is optional. The size limit for it is 16KB.\n",
    "body = \"{ 'name':'group1', 'userData':'user-provided data attached to the person group' }\"\n",
    "\n",
    "try:\n",
    "    \n",
    "    # NOTE: You must use the same location in your REST call as you used to obtain your subscription keys.\n",
    "    #   For example, if you obtained your subscription keys from westus, replace \"westcentralus\" in the \n",
    "    #   URL below with \"westus\".\n",
    "    conn = http.client.HTTPSConnection('westcentralus.api.cognitive.microsoft.com')\n",
    "    conn.request(\"PUT\", \"/face/v1.0/persongroups/%s\" % personGroupId, body, headers)\n",
    "    response = conn.getresponse()\n",
    "\n",
    "    # 'OK' indicates success. 'Conflict' means a group with this ID already exists.\n",
    "    # If you get 'Conflict', change the value of personGroupId above and try again.\n",
    "    # If you get 'Access Denied', verify the validity of the subscription key above and try again.\n",
    "    print(response.reason)\n",
    "\n",
    "    conn.close()\n",
    "except Exception as e:\n",
    "    print(e.args)\n",
    "####################################"
   ]
  },
  {
   "cell_type": "code",
   "execution_count": 40,
   "metadata": {
    "collapsed": false
   },
   "outputs": [
    {
     "name": "stdout",
     "output_type": "stream",
     "text": [
      "b'{\"personId\":\"03cb1134-ad35-4b80-8bf2-3200f44eef31\"}'\n"
     ]
    }
   ],
   "source": [
    "## 第三步：建立 person\n",
    "## Person - Create a Person\n",
    "\n",
    "########### Python 3.2 #############\n",
    "import http.client, urllib.request, urllib.parse, urllib.error, base64\n",
    "\n",
    "headers = {\n",
    "    # Request headers\n",
    "    'Content-Type': 'application/json',\n",
    "    'Ocp-Apim-Subscription-Key': 'ab4a7f41157e4592aa7cf47de4be49a1',\n",
    "}\n",
    "\n",
    "params = urllib.parse.urlencode({\n",
    "        'personGroupId':'jiangsir_groupid2'\n",
    "})\n",
    "\n",
    "requestbody = '{\"name\":\"jiangsir\",\"userData\":\"my face test test\"}'\n",
    "\n",
    "\n",
    "try:\n",
    "    conn = http.client.HTTPSConnection('westcentralus.api.cognitive.microsoft.com')\n",
    "    conn.request(\"POST\", \"/face/v1.0/persongroups/jiangsir_groupid2/persons?%s\" % params, requestbody, headers)\n",
    "    response = conn.getresponse()\n",
    "    data = response.read()\n",
    "    print(data)\n",
    "    conn.close()\n",
    "except Exception as e:\n",
    "    print(\"[Errno {0}] {1}\".format(e.errno, e.strerror))\n",
    "\n",
    "####################################\n"
   ]
  },
  {
   "cell_type": "code",
   "execution_count": 44,
   "metadata": {
    "collapsed": false
   },
   "outputs": [
    {
     "name": "stdout",
     "output_type": "stream",
     "text": [
      "b'{\"persistedFaceId\":\"41e4cd4e-6d79-4b7a-8a74-3d47b11a6a56\"}'\n"
     ]
    }
   ],
   "source": [
    "## Person - Add a Person Face\n",
    "\n",
    "########### Python 3.2 #############\n",
    "import http.client, urllib.request, urllib.parse, urllib.error, base64\n",
    "\n",
    "headers = {\n",
    "    # Request headers\n",
    "    'Content-Type': 'application/json',\n",
    "    'Ocp-Apim-Subscription-Key': 'ab4a7f41157e4592aa7cf47de4be49a1',\n",
    "}\n",
    "\n",
    "params = urllib.parse.urlencode({\n",
    "    # Request parameters\n",
    "    'personGroupId': 'jiangsir_groupid2',\n",
    "    'personId': '03cb1134-ad35-4b80-8bf2-3200f44eef31',\n",
    "    #'userData': '{string}',\n",
    "    #'targetFace': '{string}',\n",
    "})\n",
    "\n",
    "requestbody = '{\"url\":\"https://lh3.googleusercontent.com/AuJtzSdWCTZ6pWW9pMxec86gVZEjP00O7qvl8RNbzYfmJvsiUfDL-BXfel5Sw2jgPNUy7rcIVQ-HFDxDEFuIZxp56NpKwOjYncgMjL_dt0-FnoBIYyUpplx4LlE5ShN2hJ3-URLwOA4=w597-h796-no\"}'\n",
    "\n",
    "try:\n",
    "    conn = http.client.HTTPSConnection('westcentralus.api.cognitive.microsoft.com')\n",
    "    conn.request(\"POST\", \"/face/v1.0/persongroups/jiangsir_groupid2/persons/03cb1134-ad35-4b80-8bf2-3200f44eef31/persistedFaces?%s\" % params, requestbody, headers)\n",
    "    response = conn.getresponse()\n",
    "    data = response.read()\n",
    "    print(data)\n",
    "    conn.close()\n",
    "except Exception as e:\n",
    "    print(\"[Errno {0}] {1}\".format(e.errno, e.strerror))\n",
    "\n",
    "####################################"
   ]
  },
  {
   "cell_type": "code",
   "execution_count": 45,
   "metadata": {
    "collapsed": false
   },
   "outputs": [
    {
     "name": "stdout",
     "output_type": "stream",
     "text": [
      "b''\n"
     ]
    }
   ],
   "source": [
    "## 第四步：訓練 person group\n",
    "\n",
    "########### Python 3.2 #############\n",
    "import http.client, urllib.request, urllib.parse, urllib.error, base64\n",
    "\n",
    "headers = {\n",
    "    # Request headers\n",
    "    'Ocp-Apim-Subscription-Key': 'ab4a7f41157e4592aa7cf47de4be49a1',\n",
    "}\n",
    "\n",
    "params = urllib.parse.urlencode({\n",
    "        'personGroupId':'jiangsir_groupid2'\n",
    "})\n",
    "\n",
    "try:\n",
    "    conn = http.client.HTTPSConnection('westcentralus.api.cognitive.microsoft.com')\n",
    "    conn.request(\"POST\", \"/face/v1.0/persongroups/jiangsir_groupid2/train?%s\" % params, \"{body}\", headers)\n",
    "    response = conn.getresponse()\n",
    "    data = response.read()\n",
    "    print(data)\n",
    "    conn.close()\n",
    "except Exception as e:\n",
    "    print(\"[Errno {0}] {1}\".format(e.errno, e.strerror))\n",
    "\n",
    "####################################\n"
   ]
  },
  {
   "cell_type": "code",
   "execution_count": 46,
   "metadata": {
    "collapsed": false
   },
   "outputs": [
    {
     "name": "stdout",
     "output_type": "stream",
     "text": [
      "b'{\"status\":\"succeeded\",\"createdDateTime\":\"10/26/2017 8:10:48 AM\",\"lastActionDateTime\":\"10/26/2017 8:10:48 AM\",\"message\":null}'\n"
     ]
    }
   ],
   "source": [
    "# Person Group - Get Person Group Training Status\n",
    "# 檢查 personGroup 的狀況 status\n",
    "\n",
    "########### Python 3.2 #############\n",
    "import http.client, urllib.request, urllib.parse, urllib.error, base64\n",
    "\n",
    "headers = {\n",
    "    # Request headers\n",
    "    'Ocp-Apim-Subscription-Key': 'ab4a7f41157e4592aa7cf47de4be49a1',\n",
    "}\n",
    "\n",
    "params = urllib.parse.urlencode({\n",
    "    'personGroupId':'jiangsir_groupid2'\n",
    "})\n",
    "\n",
    "try:\n",
    "    conn = http.client.HTTPSConnection('westcentralus.api.cognitive.microsoft.com')\n",
    "    conn.request(\"GET\", \"/face/v1.0/persongroups/jiangsir_groupid2/training?%s\" % params, \"{body}\", headers)\n",
    "    response = conn.getresponse()\n",
    "    data = response.read()\n",
    "    print(data)\n",
    "    conn.close()\n",
    "except Exception as e:\n",
    "    print(\"[Errno {0}] {1}\".format(e.errno, e.strerror))\n",
    "\n",
    "####################################"
   ]
  },
  {
   "cell_type": "code",
   "execution_count": 53,
   "metadata": {
    "collapsed": false
   },
   "outputs": [
    {
     "name": "stdout",
     "output_type": "stream",
     "text": [
      "b'[{\"faceId\":\"b2fcd8f8-3c6a-4796-8eaa-312e34786976\",\"candidates\":[{\"personId\":\"03cb1134-ad35-4b80-8bf2-3200f44eef31\",\"confidence\":1.0}]}]'\n"
     ]
    }
   ],
   "source": [
    "# Face - Identify\n",
    "\n",
    "########### Python 3.2 #############\n",
    "import http.client, urllib.request, urllib.parse, urllib.error, base64\n",
    "\n",
    "def Detecting(url):\n",
    "    headers = {\n",
    "        # Request headers\n",
    "        'Content-Type': 'application/json',\n",
    "        'Ocp-Apim-Subscription-Key': 'ab4a7f41157e4592aa7cf47de4be49a1',\n",
    "    }\n",
    "\n",
    "    params = urllib.parse.urlencode({\n",
    "        # Request parameters\n",
    "        'returnFaceId': 'true',\n",
    "        'returnFaceLandmarks': 'false',\n",
    "        'returnFaceAttributes': 'age,gender,headPose,smile,facialHair,glasses,emotion,hair,makeup,occlusion,accessories,blur,exposure',\n",
    "    })\n",
    "\n",
    "    requestbody = '{\"url\":\"'+url+'\"}'\n",
    "\n",
    "    try:\n",
    "        conn = http.client.HTTPSConnection('westcentralus.api.cognitive.microsoft.com')\n",
    "        conn.request(\"POST\", \"/face/v1.0/detect?%s\" % params, requestbody, headers)\n",
    "        response = conn.getresponse()\n",
    "        data = response.read()\n",
    "        #print(data)\n",
    "        parsed = json.loads(str(data,'UTF-8'))\n",
    "        #print(parsed[0]['faceId'])\n",
    "        #faceids.append(parsed[0]['faceId'])\n",
    "        conn.close()\n",
    "        return parsed[0]['faceId']\n",
    "    except Exception as e:\n",
    "        print(\"[Errno {0}] {1}\".format(e.errno, e.strerror))\n",
    "\n",
    "\n",
    "\n",
    "\n",
    "\n",
    "def identify(faceids):\n",
    "    headers = {\n",
    "        # Request headers\n",
    "        'Content-Type': 'application/json',\n",
    "        'Ocp-Apim-Subscription-Key': 'ab4a7f41157e4592aa7cf47de4be49a1',\n",
    "    }\n",
    "\n",
    "    params = urllib.parse.urlencode({\n",
    "    })\n",
    "\n",
    "    requestbody = '''{\n",
    "        \"personGroupId\":\"jiangsir_groupid2\",\n",
    "        \"faceIds\":'''+str(faceids)+''',\n",
    "        \"maxNumOfCandidatesReturned\":1,\n",
    "        \"confidenceThreshold\": 0.5\n",
    "    }'''\n",
    "\n",
    "    try:\n",
    "        conn = http.client.HTTPSConnection('westcentralus.api.cognitive.microsoft.com')\n",
    "        conn.request(\"POST\", \"/face/v1.0/identify?%s\" % params, requestbody, headers)\n",
    "        response = conn.getresponse()\n",
    "        data = response.read()\n",
    "        print(data)\n",
    "        conn.close()\n",
    "    except Exception as e:\n",
    "        print(\"[Errno {0}] {1}\".format(e.errno, e.strerror))\n",
    "\n",
    "####################################\n",
    "\n",
    "\n",
    "\n",
    "faceids = []\n",
    "\n",
    "url = \"https://lh3.googleusercontent.com/K8QfLdyWNMbcI30-QRPQeU_razq3uuwhZjHl5lwVeithPZWJILE4gD9699a6fd4b84mzzYEv1MfkegMLYqhROgzKxnDELxsF1jEsZ23LzqgKz8nEIh0dbTrTh6l_sNy4gHE_icyZ6yA=w597-h796-no\"\n",
    "faceid = Detecting(url)\n",
    "faceids.append(faceid)\n",
    "\n",
    "identify(faceids)\n"
   ]
  }
 ],
 "metadata": {
  "kernelspec": {
   "display_name": "Python 3",
   "language": "python",
   "name": "python3"
  },
  "language_info": {
   "codemirror_mode": {
    "name": "ipython",
    "version": 3
   },
   "file_extension": ".py",
   "mimetype": "text/x-python",
   "name": "python",
   "nbconvert_exporter": "python",
   "pygments_lexer": "ipython3",
   "version": "3.5.1"
  }
 },
 "nbformat": 4,
 "nbformat_minor": 0
}
