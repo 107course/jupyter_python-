{
 "cells": [
  {
   "cell_type": "code",
   "execution_count": 8,
   "metadata": {
    "collapsed": false
   },
   "outputs": [
    {
     "name": "stdout",
     "output_type": "stream",
     "text": [
      "{\n",
      "   \"results\" : [\n",
      "      {\n",
      "         \"address_components\" : [\n",
      "            {\n",
      "               \"long_name\" : \"89\",\n",
      "               \"short_name\" : \"89\",\n",
      "               \"types\" : [ \"street_number\" ]\n",
      "            },\n",
      "            {\n",
      "               \"long_name\" : \"凱旋二路\",\n",
      "               \"short_name\" : \"凱旋二路\",\n",
      "               \"types\" : [ \"route\" ]\n",
      "            },\n",
      "            {\n",
      "               \"long_name\" : \"苓雅區\",\n",
      "               \"short_name\" : \"苓雅區\",\n",
      "               \"types\" : [ \"administrative_area_level_3\", \"political\" ]\n",
      "            },\n",
      "            {\n",
      "               \"long_name\" : \"高雄市\",\n",
      "               \"short_name\" : \"高雄市\",\n",
      "               \"types\" : [ \"administrative_area_level_1\", \"political\" ]\n",
      "            },\n",
      "            {\n",
      "               \"long_name\" : \"台灣\",\n",
      "               \"short_name\" : \"TW\",\n",
      "               \"types\" : [ \"country\", \"political\" ]\n",
      "            },\n",
      "            {\n",
      "               \"long_name\" : \"802\",\n",
      "               \"short_name\" : \"802\",\n",
      "               \"types\" : [ \"postal_code\" ]\n",
      "            }\n",
      "         ],\n",
      "         \"formatted_address\" : \"802台灣高雄市苓雅區凱旋二路89號\",\n",
      "         \"geometry\" : {\n",
      "            \"location\" : {\n",
      "               \"lat\" : 22.6264668,\n",
      "               \"lng\" : 120.322762\n",
      "            },\n",
      "            \"location_type\" : \"ROOFTOP\",\n",
      "            \"viewport\" : {\n",
      "               \"northeast\" : {\n",
      "                  \"lat\" : 22.6278157802915,\n",
      "                  \"lng\" : 120.3241109802915\n",
      "               },\n",
      "               \"southwest\" : {\n",
      "                  \"lat\" : 22.6251178197085,\n",
      "                  \"lng\" : 120.3214130197085\n",
      "               }\n",
      "            }\n",
      "         },\n",
      "         \"place_id\" : \"ChIJYz7lyL0EbjQRBk2yJlLffnE\",\n",
      "         \"types\" : [ \"street_address\" ]\n",
      "      }\n",
      "   ],\n",
      "   \"status\" : \"OK\"\n",
      "}\n",
      "\n",
      "原始地址：凱旋二路89號\n",
      "22.6264668\n",
      "120.322762\n"
     ]
    },
    {
     "data": {
      "text/html": [
       "\n",
       "        <iframe\n",
       "            width=\"400px\"\n",
       "            height=\"300px\"\n",
       "            src=\"http://maps.google.com/maps?q=22.6264668+120.322762&ie=UTF8&t=h&z=14&22.6264668,120.322762&output=embed\"\n",
       "            frameborder=\"0\"\n",
       "            allowfullscreen\n",
       "        ></iframe>\n",
       "        "
      ],
      "text/plain": [
       "<IPython.lib.display.IFrame at 0x104502b70>"
      ]
     },
     "metadata": {},
     "output_type": "display_data"
    },
    {
     "data": {
      "text/html": [
       "\n",
       "        <iframe\n",
       "            width=\"400px\"\n",
       "            height=\"300px\"\n",
       "            src=\"http://maps.google.com/maps/api/staticmap?center=Brooklyn+Bridge,New+York,NY&zoom=14&size=512x512&maptype=roadmap&markers=color:blue|label:S|40.702147,-74.015794&markers=color:green|label:G|40.711614,-74.012318&markers=color:red|color:red|label:C|40.718217,-73.998284&sensor=false&key=MAPS_API_KEY\"\n",
       "            frameborder=\"0\"\n",
       "            allowfullscreen\n",
       "        ></iframe>\n",
       "        "
      ],
      "text/plain": [
       "<IPython.lib.display.IFrame at 0x104502b70>"
      ]
     },
     "metadata": {},
     "output_type": "display_data"
    }
   ],
   "source": [
    "import requests\n",
    "import json\n",
    "address = \"凱旋二路89號\"\n",
    "res = requests.get(\"http://maps.google.com/maps/api/geocode/json?sensor=false&language=zh-tw&region=tw&address=\"+ address)\n",
    "#print(res.text)\n",
    "data = json.loads(res.text)\n",
    "print(\"原始地址：\"+ address)\n",
    "print(data['results'][0]['address_components'][5]['long_name']+\" | \", end=\"\")\n",
    "print(data['results'][0]['address_components'][4]['long_name']+\" | \", end=\"\")\n",
    "print(data['results'][0]['address_components'][3]['long_name']+\" | \", end=\"\")\n",
    "print(data['results'][0]['address_components'][2]['long_name']+\" | \", end=\"\")\n",
    "print(data['results'][0]['address_components'][1]['long_name']+\" | \", end=\"\")\n",
    "print(data['results'][0]['address_components'][0]['long_name'] + \" | 號\")\n",
    "\n",
    "print(data['results'][0]['geometry']['location']['lat'])\n",
    "print(data['results'][0]['geometry']['location']['lng'])\n",
    "\n",
    "from IPython.display import IFrame\n",
    "from IPython.core.display import display\n",
    "\n",
    "# Google Maps URL template for an iframe\n",
    "\n",
    "lat = data['results'][0]['geometry']['location']['lat']\n",
    "lon = data['results'][0]['geometry']['location']['lng']\n",
    "\n",
    "google_maps_url = \"http://maps.google.com/maps?q={0}+{1}&ie=UTF8&t=h&z=14&{0},{1}&output=embed\".format(lat, lon)\n",
    "display(IFrame(google_maps_url, '400px', '300px'))\n",
    "\n",
    "google_maps_url = \"http://maps.google.com/maps/api/staticmap?center=Brooklyn+Bridge,New+York,NY&zoom=14&size=512x512&maptype=roadmap&markers=color:blue|label:S|40.702147,-74.015794&markers=color:green|label:G|40.711614,-74.012318&markers=color:red|color:red|label:C|40.718217,-73.998284&sensor=false&key=MAPS_API_KEY\"\n",
    "display(IFrame(google_maps_url, '400px', '300px'))\n",
    "\n",
    "\n",
    "\n"
   ]
  },
  {
   "cell_type": "code",
   "execution_count": 22,
   "metadata": {
    "collapsed": false
   },
   "outputs": [
    {
     "data": {
      "text/html": [
       "\n",
       "        <iframe\n",
       "            width=\"425px\"\n",
       "            height=\"350px\"\n",
       "            src=\"http://maps.google.com/maps?q=22.6264668+120.322762&ie=UTF8&t=h&z=14&22.6264668,120.322762&output=embed\"\n",
       "            frameborder=\"0\"\n",
       "            allowfullscreen\n",
       "        ></iframe>\n",
       "        "
      ],
      "text/plain": [
       "<IPython.lib.display.IFrame at 0x1049401d0>"
      ]
     },
     "metadata": {},
     "output_type": "display_data"
    }
   ],
   "source": [
    "from IPython.display import IFrame\n",
    "from IPython.core.display import display\n",
    "\n",
    "# Google Maps URL template for an iframe\n",
    "\n",
    "google_maps_url = \"http://maps.google.com/maps?q={0}+{1}&ie=UTF8&t=h&z=14&{0},{1}&output=embed\".format(lat, lon)\n",
    "\n",
    "display(IFrame(google_maps_url, '425px', '350px'))\n"
   ]
  }
 ],
 "metadata": {
  "kernelspec": {
   "display_name": "Python 3",
   "language": "python",
   "name": "python3"
  },
  "language_info": {
   "codemirror_mode": {
    "name": "ipython",
    "version": 3
   },
   "file_extension": ".py",
   "mimetype": "text/x-python",
   "name": "python",
   "nbconvert_exporter": "python",
   "pygments_lexer": "ipython3",
   "version": "3.5.1"
  }
 },
 "nbformat": 4,
 "nbformat_minor": 0
}
