{
 "cells": [
  {
   "cell_type": "code",
   "execution_count": 6,
   "metadata": {
    "collapsed": false
   },
   "outputs": [
    {
     "name": "stdout",
     "output_type": "stream",
     "text": [
      "Collecting pytesser\n",
      "\u001b[31m  Could not find a version that satisfies the requirement pytesser (from versions: )\u001b[0m\n",
      "\u001b[31mNo matching distribution found for pytesser\u001b[0m\n"
     ]
    },
    {
     "ename": "ImportError",
     "evalue": "No module named 'pytesser'",
     "output_type": "error",
     "traceback": [
      "\u001b[0;31m---------------------------------------------------------------------------\u001b[0m",
      "\u001b[0;31mImportError\u001b[0m                               Traceback (most recent call last)",
      "\u001b[0;32m<ipython-input-6-95554dbf452c>\u001b[0m in \u001b[0;36m<module>\u001b[0;34m()\u001b[0m\n\u001b[1;32m     25\u001b[0m \u001b[0;34m\u001b[0m\u001b[0m\n\u001b[1;32m     26\u001b[0m \u001b[0;31m#&nbsp;&nbsp; Perform OCR using pytesser library\u001b[0m\u001b[0;34m\u001b[0m\u001b[0;34m\u001b[0m\u001b[0m\n\u001b[0;32m---> 27\u001b[0;31m \u001b[0;32mfrom\u001b[0m \u001b[0mpytesser\u001b[0m \u001b[0;32mimport\u001b[0m \u001b[0;34m*\u001b[0m\u001b[0;34m\u001b[0m\u001b[0m\n\u001b[0m\u001b[1;32m     28\u001b[0m \u001b[0mimage\u001b[0m \u001b[0;34m=\u001b[0m \u001b[0mImage\u001b[0m\u001b[0;34m.\u001b[0m\u001b[0mopen\u001b[0m\u001b[0;34m(\u001b[0m\u001b[0;34m'input-NEAREST.tif'\u001b[0m\u001b[0;34m)\u001b[0m\u001b[0;34m\u001b[0m\u001b[0m\n\u001b[1;32m     29\u001b[0m \u001b[0mprint\u001b[0m\u001b[0;34m(\u001b[0m\u001b[0mimage_to_string\u001b[0m\u001b[0;34m(\u001b[0m\u001b[0mimage\u001b[0m\u001b[0;34m)\u001b[0m\u001b[0;34m)\u001b[0m\u001b[0;34m\u001b[0m\u001b[0m\n",
      "\u001b[0;31mImportError\u001b[0m: No module named 'pytesser'"
     ]
    }
   ],
   "source": [
    "!pip install pytesser\n",
    "\n",
    "\n",
    "from PIL import Image\n",
    "\n",
    "img = Image.open('imageOut.jpeg')\n",
    "img = img.convert(\"RGBA\")\n",
    "\n",
    "pixdata = img.load()\n",
    "\n",
    "# Clean the background noise, if color != black, then set to white.\n",
    "for y in range(img.size[1]):\n",
    "    for x in range(img.size[0]):\n",
    "        if pixdata[x, y] != (0, 0, 0, 255):\n",
    "            pixdata[x, y] = (255, 255, 255, 255)\n",
    "\n",
    "img.save(\"input-black.gif\", \"GIF\")\n",
    "\n",
    "#&nbsp;&nbsp; Make the image bigger (needed for OCR)\n",
    "im_orig = Image.open('input-black.gif')\n",
    "big = im_orig.resize((116, 56), Image.NEAREST)\n",
    "\n",
    "ext = \".tif\"\n",
    "big.save(\"input-NEAREST\" + ext)\n",
    "\n",
    "#&nbsp;&nbsp; Perform OCR using pytesser library\n",
    "from pytesser import *\n",
    "image = Image.open('input-NEAREST.tif')\n",
    "print(image_to_string(image))\n"
   ]
  },
  {
   "cell_type": "markdown",
   "metadata": {},
   "source": [
    "!pip install pytesseract\n",
    "\n",
    "# 到 MAC OSX terminal: sudo port install tesseract 安裝\n",
    "# 下載訓練資料 https://github.com/tesseract-ocr/tessdata/blob/master/eng.traineddata  \n",
    "有問題。TesseractError: (-6, 'actual_tessdata_num_entries_ <= TESSDATA_NUM_ENTRIES:Error:Assert failed:in file tessdatamanager.cpp, line 50')\n",
    "\n",
    "# 下載舊一點的訓練資料 https://github.com/tesseract-ocr/tessdata/blob/bf82613055ebc6e63d9e3b438a5c234bfd638c93/eng.traineddata\n",
    "沒錯誤訊息了，但也沒結果跑出來。\n",
    "\n",
    "訓練資料要放對地方。\n",
    "sudo mv eng.traineddata /opt/local/share/tessdata/\n",
    "\n"
   ]
  },
  {
   "cell_type": "code",
   "execution_count": 29,
   "metadata": {
    "collapsed": false
   },
   "outputs": [
    {
     "name": "stdout",
     "output_type": "stream",
     "text": [
      "\n",
      "duoungow\n",
      "W6 8HP\n",
      "\n",
      "5345262\n"
     ]
    }
   ],
   "source": [
    "try:\n",
    "    import Image\n",
    "except ImportError:\n",
    "    from PIL import Image\n",
    "import pytesseract\n",
    "\n",
    "images = [\"ImageOut.jpeg\",\"image2.png\",\"image3.png\", \"image4.jpeg\", \"image5.png\"]\n",
    "for image in images:\n",
    "    Apple = Image.open(image)\n",
    "    Apple.show()\n",
    "    print(pytesseract.image_to_string(Image.open(image)))\n",
    "#print pytesseract.image_to_string(Image.open('img.bmp'), lang='fra')  \n"
   ]
  },
  {
   "cell_type": "code",
   "execution_count": null,
   "metadata": {
    "collapsed": true
   },
   "outputs": [],
   "source": []
  }
 ],
 "metadata": {
  "kernelspec": {
   "display_name": "Python 3",
   "language": "python",
   "name": "python3"
  },
  "language_info": {
   "codemirror_mode": {
    "name": "ipython",
    "version": 3
   },
   "file_extension": ".py",
   "mimetype": "text/x-python",
   "name": "python",
   "nbconvert_exporter": "python",
   "pygments_lexer": "ipython3",
   "version": "3.5.1"
  }
 },
 "nbformat": 4,
 "nbformat_minor": 0
}
