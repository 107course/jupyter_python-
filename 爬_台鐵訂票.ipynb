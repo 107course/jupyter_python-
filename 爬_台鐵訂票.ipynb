{
 "cells": [
  {
   "cell_type": "code",
   "execution_count": 3,
   "metadata": {
    "collapsed": false
   },
   "outputs": [
    {
     "name": "stdout",
     "output_type": "stream",
     "text": [
      "<!DOCTYPE html PUBLIC \"-//W3C//DTD HTML 4.01 Transitional//EN\" \"http://www.w3.org/TR/html4/loose.dtd\">\r\n",
      "<html>\r\n",
      "\t<head>\r\n",
      "\t\t<title>¥æ³q³¡»OÆWÅK¸ôºÞ²z§½-ºô¸ô­q²¼¨t²Î</title>\r\n",
      "\t\t<meta http-equiv=\"Content-Type\" content=\"text/html; charset=big5\">\r\n",
      "\t\t<meta http-equiv=\"Pragma\" content=\"no-cache\">\r\n",
      "\t\t<meta http-equiv=\"Cache-Control\" content=\"no-cache, no-store, max-age=0, must-revalidate\">\r\n",
      "\t\t<meta http-equiv=\"Expires\" content=\"0\">\r\n",
      "\t</head>\r\n",
      "\t<script language=\"javascript\">\r\n",
      "\t\tfunction changeFrame() {\r\n",
      "\t        var aUrl = window.location.toString();\r\n",
      "\t        if(aUrl.indexOf(\"?\") >= 0) {\r\n",
      "                var paramStr = aUrl.split(\"?\")[1];\r\n",
      "        \t\twindow.frames[\"cMain\"].location.href=\"ctno1.htm?\" + paramStr;\r\n",
      "\t        }\r\n",
      "\t        \r\n",
      "\t        document.getElementById(\"a\").rows = \"120,*\";\r\n",
      "\t        document.getElementById(\"b\").cols = \"200,*\";\r\n",
      "\t\t}\r\n",
      "\t</script>\r\n",
      "\t<noscript>\r\n",
      "\t\t<!--\r\n",
      "\t\t<p><a href=\"#\" accesskey=\"C\" title=\"¤¤¶¡¥D­n¤º®e°Ï¡A¦¹°Ï¶ô§e²{ºô­¶ªººô­¶¤º®e\">:::</a><p>\r\n",
      "\t\t<p>±zªºÂsÄý¾¹¤£¤ä´©<span lang=\"en\">JavaScript</span>¡A½Ð³sµ²¨ì¡uºô¯¸¾ÉÄý¡vºô­¶¶i¦æ¬ÛÃö¥\\¯à¾Þ§@¡AÁÂÁÂ¡C<a href=\"/Public/sitemap.htm\" title=\"³sµ²¨ìºô¯¸¾ÉÄýºô­¶\">½Ð«ö¦¹³sµ²¨ì¡uºô¯¸¾ÉÄý¡vºô­¶</a>¡C</p>\r\n",
      "\t\t-->\r\n",
      "\t</noscript>\r\n",
      "\r\n",
      "\t<frameset id=\"a\" rows=\"18%,*\" border=\"0\">\r\n",
      "\t\t<frame name=\"banner\" noresize=\"noresize\" src=\"index_top.htm\" title=\"ºô¸ô­q²¼¨t²Î¼ÐÃD¹Ï¥Ü\" scrolling=\"no\">\r\n",
      "\t\t<frameset id=\"b\" cols=\"23%,*\" onload=\"changeFrame()\">\r\n",
      "\t\t\t<frame name=\"lMenu\" noresize=\"noresize\" src=\"index_left.htm\" title=\"ºô¯¸¥\\¯à¾ÉÄý¦C\">\r\n",
      "\t\t\t<frame name=\"cMain\" noresize=\"noresize\" src=\"./Public/index_menu.html\" title=\"¥D­n¤º®e­¶®Ø\">\r\n",
      "\t\t</frameset>\r\n",
      "\t</frameset>\r\n",
      "\t<noframes>\r\n",
      "\t\t<p>\r\n",
      "\t\t\t¦¹ºô­¶¨Ï¥Î®Ø¬[¡A¦ý¬O±zªºÂsÄý¾¹¤£¤ä´©®Ø¬[¡C±z¥i¥H³sµ²¨ì­q²¼¥\\¯àºô­¶¶i¦æ­q²¼§@·~¡C<br/>\r\n",
      "\t\t\t<a href=\"./index_left.htm\" title=\"­q²¼¥\\¯àºô­¶\">ÂI¦¹«e©¹­q²¼¥\\¯àºô­¶</a>\r\n",
      "\t\t</p>\r\n",
      "\t</noframes>\r\n",
      "</html>\n"
     ]
    }
   ],
   "source": [
    "import requests\n",
    "import re\n",
    "import json\n",
    "from bs4 import BeautifulSoup\n",
    "formdata={\n",
    "\"randInput\":\"06110\",\n",
    "\"person_id\":\"S121027187\",\n",
    "\"getin_date\":\"2017/01/26-00\",\n",
    "\"from_station\":\"185\",\n",
    "\"to_station\":\"186\",\n",
    "\"order_qty_str\":\"1\",\n",
    "\"train_type\":\"*4\",\n",
    "\"getin_start_dtime\":\"09:00\",\n",
    "\"getin_end_dtime\":\"17:00\",\n",
    "\"returnTicket\":\"0\"\n",
    "}\n",
    "res = requests.get(\"http://railway1.hinet.net/wait_order_search.jsp?randInput=06110&person_id=S121027187&getin_date=2017%2F01%2F26-00&from_station=185&to_station=186&order_qty_str=1&train_type=*4&getin_start_dtime=09%3A00&getin_end_dtime=17%3A00&returnTicket=0\")\n",
    "print(res.text)"
   ]
  }
 ],
 "metadata": {
  "kernelspec": {
   "display_name": "Python 3",
   "language": "python",
   "name": "python3"
  },
  "language_info": {
   "codemirror_mode": {
    "name": "ipython",
    "version": 3
   },
   "file_extension": ".py",
   "mimetype": "text/x-python",
   "name": "python",
   "nbconvert_exporter": "python",
   "pygments_lexer": "ipython3",
   "version": "3.5.1"
  }
 },
 "nbformat": 4,
 "nbformat_minor": 0
}
