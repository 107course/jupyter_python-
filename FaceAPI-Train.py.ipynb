{
 "cells": [
  {
   "cell_type": "code",
   "execution_count": 2,
   "metadata": {
    "collapsed": false
   },
   "outputs": [
    {
     "name": "stdout",
     "output_type": "stream",
     "text": [
      "建立一個 personGroupid = jiangsir_groupid4\n",
      "OK\n",
      "在 personGroupid=jiangsir_groupid4 裡 建立一個 person name=jiangsir\n",
      "用一個圖片放入一個 person 當中 personId=94686663-6c95-411c-bb36-bba07160e85c\n"
     ]
    },
    {
     "data": {
      "text/html": [
       "<img src=\"train_face1.jpg\"/>"
      ],
      "text/plain": [
       "<IPython.core.display.Image object>"
      ]
     },
     "metadata": {},
     "output_type": "display_data"
    },
    {
     "name": "stdout",
     "output_type": "stream",
     "text": [
      "b'{\"persistedFaceId\":\"1bfc6081-cb3e-4be1-a7a8-2ef83a36088b\"}'\n",
      "用一個圖片放入一個 person 當中 personId=94686663-6c95-411c-bb36-bba07160e85c\n"
     ]
    },
    {
     "data": {
      "text/html": [
       "<img src=\"train_face2.jpg\"/>"
      ],
      "text/plain": [
       "<IPython.core.display.Image object>"
      ]
     },
     "metadata": {},
     "output_type": "display_data"
    },
    {
     "name": "stdout",
     "output_type": "stream",
     "text": [
      "b'{\"persistedFaceId\":\"546ec637-a871-49bd-9ab8-a5e9d84644ab\"}'\n",
      "用一個圖片放入一個 person 當中 personId=94686663-6c95-411c-bb36-bba07160e85c\n"
     ]
    },
    {
     "data": {
      "text/html": [
       "<img src=\"train_face3.jpg\"/>"
      ],
      "text/plain": [
       "<IPython.core.display.Image object>"
      ]
     },
     "metadata": {},
     "output_type": "display_data"
    },
    {
     "name": "stdout",
     "output_type": "stream",
     "text": [
      "b'{\"persistedFaceId\":\"ca15177d-613f-4178-bb53-12b73ab8b787\"}'\n",
      "用一個圖片放入一個 person 當中 personId=94686663-6c95-411c-bb36-bba07160e85c\n"
     ]
    },
    {
     "data": {
      "text/html": [
       "<img src=\"train_face4.jpg\"/>"
      ],
      "text/plain": [
       "<IPython.core.display.Image object>"
      ]
     },
     "metadata": {},
     "output_type": "display_data"
    },
    {
     "name": "stdout",
     "output_type": "stream",
     "text": [
      "b'{\"persistedFaceId\":\"36bd65d0-14d1-4c69-bb47-16962571df7e\"}'\n",
      "開始訓練一個 personGroup personGroupId=jiangsir_groupid4。\n",
      "b''\n",
      "personGroup_status: 查看一個 personGroup 的狀態，也就是看看訓練是否成功！\n",
      "b'{\"status\":\"succeeded\",\"createdDateTime\":\"11/6/2017 1:10:05 PM\",\"lastActionDateTime\":\"11/6/2017 1:10:04 PM\",\"message\":null}'\n"
     ]
    }
   ],
   "source": [
    "import http.client, urllib.request, urllib.parse, urllib.error, base64, json\n",
    "from IPython.display import Image\n",
    "from IPython.display import display\n",
    "\n",
    "api_key = 'ab4a7f41157e4592aa7cf47de4be49a1'\n",
    "host = 'westcentralus.api.cognitive.microsoft.com'\n",
    "personGroupId = 'jiangsir_groupid2'\n",
    "\n",
    "\n",
    "\n",
    "def create_personGroup(personGroupId, groupname, groupdata):\n",
    "    print(\"建立一個 personGroupid = \"+personGroupId)\n",
    "    headers = {\n",
    "        # Request headers.\n",
    "        'Content-Type': 'application/json',\n",
    "\n",
    "        # NOTE: Replace the \"Ocp-Apim-Subscription-Key\" value with a valid subscription key.\n",
    "        'Ocp-Apim-Subscription-Key': api_key,\n",
    "    }\n",
    "\n",
    "    # Replace 'examplegroupid' with an ID you haven't used for creating a group before.\n",
    "    # The valid characters for the ID include numbers, English letters in lower case, '-' and '_'. \n",
    "    # The maximum length of the ID is 64.\n",
    "    #personGroupId = 'examplegroupid'\n",
    "    #personGroupId = 'jiangsir_groupid2'\n",
    "\n",
    "    # The userData field is optional. The size limit for it is 16KB.\n",
    "    body = \"{ 'name':'\"+groupname+\"', 'userData':'\"+groupdata+\"' }\"\n",
    "\n",
    "    try:\n",
    "\n",
    "        # NOTE: You must use the same location in your REST call as you used to obtain your subscription keys.\n",
    "        #   For example, if you obtained your subscription keys from westus, replace \"westcentralus\" in the \n",
    "        #   URL below with \"westus\".\n",
    "        conn = http.client.HTTPSConnection(host)\n",
    "        conn.request(\"PUT\", \"/face/v1.0/persongroups/%s\" % personGroupId, body, headers)\n",
    "        response = conn.getresponse()\n",
    "\n",
    "        # 'OK' indicates success. 'Conflict' means a group with this ID already exists.\n",
    "        # If you get 'Conflict', change the value of personGroupId above and try again.\n",
    "        # If you get 'Access Denied', verify the validity of the subscription key above and try again.\n",
    "        print(response.reason)\n",
    "\n",
    "        conn.close()\n",
    "        return personGroupId\n",
    "    except Exception as e:\n",
    "        print(e.args)\n",
    "        \n",
    "        \n",
    "        \n",
    "def create_a_person(personGroupId, name, descript):\n",
    "    print(\"在 personGroupid=\"+personGroupId+\" 裡 建立一個 person name=\"+name)\n",
    "    headers = {\n",
    "        # Request headers\n",
    "        'Content-Type': 'application/json',\n",
    "        'Ocp-Apim-Subscription-Key': api_key,\n",
    "    }\n",
    "\n",
    "    params = urllib.parse.urlencode({\n",
    "            'personGroupId':personGroupId\n",
    "    })\n",
    "\n",
    "    requestbody = '{\"name\":\"'+name+'\",\"userData\":\"'+descript+'\"}'\n",
    "\n",
    "    try:\n",
    "        conn = http.client.HTTPSConnection(host)\n",
    "        conn.request(\"POST\", \"/face/v1.0/persongroups/\"+personGroupId+\"/persons?%s\" % params, requestbody, headers)\n",
    "        response = conn.getresponse()\n",
    "        data = response.read()\n",
    "        #print(data)\n",
    "        create_a_person_json = json.loads(str(data,'UTF-8'))\n",
    "\n",
    "        conn.close()\n",
    "        return create_a_person_json['personId']\n",
    "    except Exception as e:\n",
    "        print(\"[Errno {0}] {1}\".format(e.errno, e.strerror))    \n",
    "        \n",
    "def add_a_person_face(imagepath, personId, personGroupId):\n",
    "    print(\"用一個圖片放入一個 person 當中 personId=\"+personId)\n",
    "    display(Image(url=imagepath))\n",
    "\n",
    "    headers = {\n",
    "        # Request headers\n",
    "#        'Content-Type': 'application/json',\n",
    "        'Content-Type': 'application/octet-stream', #上傳圖檔\n",
    "        'Ocp-Apim-Subscription-Key': api_key,\n",
    "    }\n",
    "\n",
    "    params = urllib.parse.urlencode({\n",
    "        # Request parameters\n",
    "        'personGroupId': personGroupId,\n",
    "        #'personId': '03cb1134-ad35-4b80-8bf2-3200f44eef31',\n",
    "        'personId': personId,\n",
    "        #'userData': '{string}',\n",
    "        #'targetFace': '{string}',\n",
    "    })\n",
    "#\"https://lh3.googleusercontent.com/AuJtzSdWCTZ6pWW9pMxec86gVZEjP00O7qvl8RNbzYfmJvsiUfDL-BXfel5Sw2jgPNUy7rcIVQ-HFDxDEFuIZxp56NpKwOjYncgMjL_dt0-FnoBIYyUpplx4LlE5ShN2hJ3-URLwOA4=w597-h796-no\"\n",
    "\n",
    "#    requestbody = '{\"url\": \"'+imageurl+'\"}'\n",
    "    requestbody = open(imagepath, \"rb\").read()\n",
    "    \n",
    "\n",
    "    try:\n",
    "        conn = http.client.HTTPSConnection(host)\n",
    "        conn.request(\"POST\", \"/face/v1.0/persongroups/\"+personGroupId+\"/persons/\"+personId+\"/persistedFaces?%s\" % params, requestbody, headers)\n",
    "        response = conn.getresponse()\n",
    "        data = response.read()\n",
    "        print(data)\n",
    "        conn.close()\n",
    "    except Exception as e:\n",
    "        print(\"[Errno {0}] {1}\".format(e.errno, e.strerror))\n",
    "\n",
    "def train_personGroup(personGroupId):\n",
    "    print(\"開始訓練一個 personGroup personGroupId=\"+personGroupId+\"。\")\n",
    "    \n",
    "    headers = {\n",
    "        # Request headers\n",
    "        'Ocp-Apim-Subscription-Key': api_key,\n",
    "    }\n",
    "\n",
    "    params = urllib.parse.urlencode({\n",
    "            'personGroupId':personGroupId\n",
    "    })\n",
    "\n",
    "    try:\n",
    "        conn = http.client.HTTPSConnection(host)\n",
    "        conn.request(\"POST\", \"/face/v1.0/persongroups/\"+personGroupId+\"/train?%s\" % params, \"{body}\", headers)\n",
    "        response = conn.getresponse()\n",
    "        data = response.read()\n",
    "        print(data)\n",
    "        conn.close()\n",
    "    except Exception as e:\n",
    "        print(\"[Errno {0}] {1}\".format(e.errno, e.strerror))    \n",
    "     \n",
    "    \n",
    "def personGroup_status(personGroupId):\n",
    "    print(\"personGroup_status: 查看一個 personGroup 的狀態，也就是看看訓練是否成功！\")\n",
    "    headers = {\n",
    "        # Request headers\n",
    "        'Ocp-Apim-Subscription-Key': api_key,\n",
    "    }\n",
    "\n",
    "    params = urllib.parse.urlencode({\n",
    "        'personGroupId':personGroupId\n",
    "    })\n",
    "\n",
    "    try:\n",
    "        conn = http.client.HTTPSConnection(host)\n",
    "        conn.request(\"GET\", \"/face/v1.0/persongroups/\"+personGroupId+\"/training?%s\" % params, \"{body}\", headers)\n",
    "        response = conn.getresponse()\n",
    "        data = response.read()\n",
    "        print(data)\n",
    "        conn.close()\n",
    "    except Exception as e:\n",
    "        print(\"[Errno {0}] {1}\".format(e.errno, e.strerror))    \n",
    "\n",
    "\n",
    "##################################################################################################\n",
    "### main\n",
    "##################################################################################################\n",
    "\n",
    "trainimages = []\n",
    "trainimages.append(\"train_face1.jpg\")\n",
    "trainimages.append(\"train_face2.jpg\")\n",
    "trainimages.append(\"train_face3.jpg\")\n",
    "trainimages.append(\"train_face4.jpg\")\n",
    "\n",
    "#trainimages.append(\"https://lh3.googleusercontent.com/AuJtzSdWCTZ6pWW9pMxec86gVZEjP00O7qvl8RNbzYfmJvsiUfDL-BXfel5Sw2jgPNUy7rcIVQ-HFDxDEFuIZxp56NpKwOjYncgMjL_dt0-FnoBIYyUpplx4LlE5ShN2hJ3-URLwOA4=w597-h796-no\")\n",
    "#trainimages.append(\"https://lh3.googleusercontent.com/FywffrCKSfzhFoGenppzlH_GXPeGCOT9HvizxLXOziZ2FSAvaTgFwevxanp3hv7Zntt1o80PI84PtsZC7zXvwFfK3o-boWuEPlsjmRoUCqT3ll-WdN3h7mq9lI2akW6VwVXsOiQmKmc=w597-h796-no\")\n",
    "#trainimages.append(\"https://lh3.googleusercontent.com/7bgf-psmqPJBg78Y9WNCqEP9cfIr3-XOmykuXYO2JSbpGTMG3nZ9RCuizoJbJJr-dJLkqFN6mGzGH6nmv8p3aT1RiTLHGoNmnpGnw7t-j5RCij23v85ZK0NJnKzjuZDI9wkxivttBgY=w597-h796-no\")\n",
    "#trainimages.append(\"https://lh3.googleusercontent.com/vXifjUB85Yy4IgnxX5_c83kXwF_x9eQHheHVUNVokpB0RZNpOgwijo5jclRbTxywlQaJzpZiDJlYtgI7zyYfBfIml5YeCpf0qwTqLGtfH1wiznF8rSY2pPGcNxEqJidLup5zSAUhRdg=w597-h796-no\")\n",
    "\n",
    "personGroupId = create_personGroup(\"jiangsir_groupid4\", \"personGroup namenamename\", \"jiangsirpersonGroup_userDatauserData\")\n",
    "personId = create_a_person(personGroupId, \"jiangsir\", \"jiangsir_userDatauserData\")\n",
    "\n",
    "for trainimage in trainimages:\n",
    "    add_a_person_face(trainimage, personId, personGroupId)\n",
    "\n",
    "\n",
    "train_personGroup(personGroupId)\n",
    "personGroup_status(personGroupId)\n"
   ]
  }
 ],
 "metadata": {
  "kernelspec": {
   "display_name": "Python 3",
   "language": "python",
   "name": "python3"
  },
  "language_info": {
   "codemirror_mode": {
    "name": "ipython",
    "version": 3
   },
   "file_extension": ".py",
   "mimetype": "text/x-python",
   "name": "python",
   "nbconvert_exporter": "python",
   "pygments_lexer": "ipython3",
   "version": "3.5.1"
  }
 },
 "nbformat": 4,
 "nbformat_minor": 0
}
