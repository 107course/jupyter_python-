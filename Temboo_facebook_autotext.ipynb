{
 "cells": [
  {
   "cell_type": "code",
   "execution_count": 66,
   "metadata": {
    "collapsed": false
   },
   "outputs": [
    {
     "name": "stdout",
     "output_type": "stream",
     "text": [
      "Response: {\"id\":\"10154434940039911_10154438244609911\"}\n"
     ]
    }
   ],
   "source": [
    "import sys\n",
    "import requests\n",
    "import json\n",
    "from temboo.Library.Facebook.Reading import User\n",
    "from temboo.core.session import TembooSession\n",
    "\n",
    "def sendFacebook(message):\n",
    "    \n",
    "    # Create a session with your Temboo account details\n",
    "    session = TembooSession(\"jiangzero\", \"temboo-app\", \"v8ds5Pa6UVfV0p8Ci2lC2wqVMa1ai6Sp\")\n",
    "\n",
    "    # Instantiate the Choreo\n",
    "    setStatusChoreo = SetStatus(session)\n",
    "\n",
    "    # Get an InputSet object for the Choreo\n",
    "    setStatusInputs = setStatusChoreo.new_input_set()\n",
    "\n",
    "    # Set the Choreo inputs\n",
    "    setStatusInputs.set_Message(message)\n",
    "    setStatusInputs.set_AccessToken(\"EAAMQ3ZACh2AABAEIWu7lOsBBZC6xBnZCGYZAVchRCXKueZBw6w4vKPI8USFG3ZA2skIXvG7LHzAswsGRIe87xlyZAAC2GaEEejx7ZBKVOUnDKJsf1p5IMO0pRwXsuntT6M7ynOa1rOUrHq0IyU9sshBkaLTqihhM3zYZD\")\n",
    "\n",
    "    # Execute the Choreo\n",
    "    setStatusResults = setStatusChoreo.execute_with_results(setStatusInputs)\n",
    "\n",
    "    # Print the Choreo outputs\n",
    "    print(\"Response: \" + setStatusResults.get_Response())\n",
    "    \n",
    "    \n",
    "\n",
    "#url = \"http://opendata.epa.gov.tw/ws/Data/UV/?format=json\"\n",
    "url = \"http://opendata2.epa.gov.tw/AQX.json\"\n",
    "try:\n",
    "    res = requests.get(url)\n",
    "except requests.exceptions.RequestException as e:\n",
    "        print(\"網路有問題，無法連線。\")\n",
    "        sys.exit(1)\n",
    "        \n",
    "datas = json.loads(res.text)\n",
    "message = \"測站時間:\"+datas[0]['PublishTime']+\"\\n\"\n",
    "for site in datas:\n",
    "    if site['County'].find('高雄')>=0:\n",
    "        message += site['SiteName']+\":\"+site['Status']+\": PM2.5:\"+site['PM2.5']+\", 風向:\"+site['WindDirec']+\"\\n\"\n",
    "\n",
    "sendFacebook(message)"
   ]
  },
  {
   "cell_type": "code",
   "execution_count": 25,
   "metadata": {
    "collapsed": false
   },
   "outputs": [
    {
     "name": "stdout",
     "output_type": "stream",
     "text": [
      "Response: {\"id\":\"10154434940039911_10154435138594911\"}\n"
     ]
    }
   ],
   "source": [
    "from temboo.Library.Facebook.Publishing import SetStatus\n",
    "from temboo.core.session import TembooSession\n",
    "\n",
    "# Create a session with your Temboo account details\n",
    "session = TembooSession(\"jiangzero\", \"temboo-app\", \"v8ds5Pa6UVfV0p8Ci2lC2wqVMa1ai6Sp\")\n",
    "\n",
    "# Instantiate the Choreo\n",
    "setStatusChoreo = SetStatus(session)\n",
    "\n",
    "# Get an InputSet object for the Choreo\n",
    "setStatusInputs = setStatusChoreo.new_input_set()\n",
    "\n",
    "# Set the Choreo inputs\n",
    "setStatusInputs.set_Message(\"Python 自動上傳。\")\n",
    "setStatusInputs.set_AccessToken(\"EAAMQ3ZACh2AABAEIWu7lOsBBZC6xBnZCGYZAVchRCXKueZBw6w4vKPI8USFG3ZA2skIXvG7LHzAswsGRIe87xlyZAAC2GaEEejx7ZBKVOUnDKJsf1p5IMO0pRwXsuntT6M7ynOa1rOUrHq0IyU9sshBkaLTqihhM3zYZD\")\n",
    "\n",
    "# Execute the Choreo\n",
    "setStatusResults = setStatusChoreo.execute_with_results(setStatusInputs)\n",
    "\n",
    "# Print the Choreo outputs\n",
    "print(\"Response: \" + setStatusResults.get_Response())"
   ]
  },
  {
   "cell_type": "code",
   "execution_count": 20,
   "metadata": {
    "collapsed": false
   },
   "outputs": [
    {
     "name": "stdout",
     "output_type": "stream",
     "text": [
      "Ignoring indexes: https://pypi.python.org/simple\n",
      "Collecting temboo\n",
      "\u001b[31m  Could not find a version that satisfies the requirement temboo (from versions: )\u001b[0m\n",
      "\u001b[31mNo matching distribution found for temboo\u001b[0m\n"
     ]
    }
   ],
   "source": [
    "!pip install temboo --no-index --find-links file:///Users/jiangsir/Downloads/temboo_python_sdk_2.18.0/temboo"
   ]
  },
  {
   "cell_type": "code",
   "execution_count": 17,
   "metadata": {
    "collapsed": false
   },
   "outputs": [
    {
     "name": "stdout",
     "output_type": "stream",
     "text": [
      "Longitude: -74.0055999\n",
      "Latitude: 40.7186172\n",
      "Response: <?xml version=\"1.0\" encoding=\"UTF-8\"?>\n",
      "<GeocodeResponse>\n",
      " <status>OK</status>\n",
      " <result>\n",
      "  <type>premise</type>\n",
      "  <formatted_address>104 Franklin St, New York, NY 10013, USA</formatted_address>\n",
      "  <address_component>\n",
      "   <long_name>104</long_name>\n",
      "   <short_name>104</short_name>\n",
      "   <type>street_number</type>\n",
      "  </address_component>\n",
      "  <address_component>\n",
      "   <long_name>Franklin Street</long_name>\n",
      "   <short_name>Franklin St</short_name>\n",
      "   <type>route</type>\n",
      "  </address_component>\n",
      "  <address_component>\n",
      "   <long_name>Lower Manhattan</long_name>\n",
      "   <short_name>Lower Manhattan</short_name>\n",
      "   <type>neighborhood</type>\n",
      "   <type>political</type>\n",
      "  </address_component>\n",
      "  <address_component>\n",
      "   <long_name>Manhattan</long_name>\n",
      "   <short_name>Manhattan</short_name>\n",
      "   <type>political</type>\n",
      "   <type>sublocality</type>\n",
      "   <type>sublocality_level_1</type>\n",
      "  </address_component>\n",
      "  <address_component>\n",
      "   <long_name>New York</long_name>\n",
      "   <short_name>New York</short_name>\n",
      "   <type>locality</type>\n",
      "   <type>political</type>\n",
      "  </address_component>\n",
      "  <address_component>\n",
      "   <long_name>New York County</long_name>\n",
      "   <short_name>New York County</short_name>\n",
      "   <type>administrative_area_level_2</type>\n",
      "   <type>political</type>\n",
      "  </address_component>\n",
      "  <address_component>\n",
      "   <long_name>New York</long_name>\n",
      "   <short_name>NY</short_name>\n",
      "   <type>administrative_area_level_1</type>\n",
      "   <type>political</type>\n",
      "  </address_component>\n",
      "  <address_component>\n",
      "   <long_name>United States</long_name>\n",
      "   <short_name>US</short_name>\n",
      "   <type>country</type>\n",
      "   <type>political</type>\n",
      "  </address_component>\n",
      "  <address_component>\n",
      "   <long_name>10013</long_name>\n",
      "   <short_name>10013</short_name>\n",
      "   <type>postal_code</type>\n",
      "  </address_component>\n",
      "  <geometry>\n",
      "   <location>\n",
      "    <lat>40.7186172</lat>\n",
      "    <lng>-74.0055999</lng>\n",
      "   </location>\n",
      "   <location_type>ROOFTOP</location_type>\n",
      "   <viewport>\n",
      "    <southwest>\n",
      "     <lat>40.7172682</lat>\n",
      "     <lng>-74.0069489</lng>\n",
      "    </southwest>\n",
      "    <northeast>\n",
      "     <lat>40.7199662</lat>\n",
      "     <lng>-74.0042510</lng>\n",
      "    </northeast>\n",
      "   </viewport>\n",
      "   <bounds>\n",
      "    <southwest>\n",
      "     <lat>40.7184949</lat>\n",
      "     <lng>-74.0057203</lng>\n",
      "    </southwest>\n",
      "    <northeast>\n",
      "     <lat>40.7187395</lat>\n",
      "     <lng>-74.0054796</lng>\n",
      "    </northeast>\n",
      "   </bounds>\n",
      "  </geometry>\n",
      "  <place_id>ChIJna2qCSBawokRP24UX7kPm1U</place_id>\n",
      " </result>\n",
      "</GeocodeResponse>\n",
      "\n"
     ]
    }
   ],
   "source": [
    "#  直接將 /Users/jiangsir/Downloads/temboo_python_sdk_2.18.0/temboo 複製到同一個資料夾下即可。\n",
    "from temboo.Library.Google.Geocoding import GeocodeByAddress\n",
    "from temboo.core.session import TembooSession\n",
    "\n",
    "# Create a session with your Temboo account details\n",
    "session = TembooSession('jiangzero', 'temboo-app', 'v8ds5Pa6UVfV0p8Ci2lC2wqVMa1ai6Sp')\n",
    "\n",
    "# Instantiate the Choreo\n",
    "geocodeByAddressChoreo = GeocodeByAddress(session)\n",
    "\n",
    "# Get an InputSet object for the Choreo\n",
    "geocodeByAddressInputs = geocodeByAddressChoreo.new_input_set()\n",
    "\n",
    "# Set the Choreo inputs\n",
    "geocodeByAddressInputs.set_Address(\"104 Franklin St., New York NY 10013\")\n",
    "\n",
    "# Execute the Choreo\n",
    "geocodeByAddressResults = geocodeByAddressChoreo.execute_with_results(geocodeByAddressInputs)\n",
    "\n",
    "# Print the Choreo outputs\n",
    "print(\"Longitude: \" + geocodeByAddressResults.get_Longitude())\n",
    "print(\"Latitude: \" + geocodeByAddressResults.get_Latitude())\n",
    "print(\"Response: \" + geocodeByAddressResults.get_Response())\n"
   ]
  }
 ],
 "metadata": {
  "kernelspec": {
   "display_name": "Python 3",
   "language": "python",
   "name": "python3"
  },
  "language_info": {
   "codemirror_mode": {
    "name": "ipython",
    "version": 3
   },
   "file_extension": ".py",
   "mimetype": "text/x-python",
   "name": "python",
   "nbconvert_exporter": "python",
   "pygments_lexer": "ipython3",
   "version": "3.5.1"
  }
 },
 "nbformat": 4,
 "nbformat_minor": 0
}
