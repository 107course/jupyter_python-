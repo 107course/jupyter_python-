{
 "cells": [
  {
   "cell_type": "code",
   "execution_count": 2,
   "metadata": {
    "collapsed": false
   },
   "outputs": [
    {
     "name": "stdout",
     "output_type": "stream",
     "text": [
      "Collecting git+https://github.com/dianakhuang/pytumblr.git@diana/python-3-support\n",
      "  Cloning https://github.com/dianakhuang/pytumblr.git (to diana/python-3-support) to /var/folders/38/nwfb18m540j8v7ncd4lfmbjr0000gn/T/pip-d7pneom4-build\n",
      "Collecting future (from PyTumblr==0.0.6)\n",
      "  Downloading future-0.15.2.tar.gz (1.6MB)\n",
      "\u001b[K    100% |████████████████████████████████| 1.6MB 311kB/s \n",
      "\u001b[?25hCollecting requests-oauthlib (from PyTumblr==0.0.6)\n",
      "  Downloading requests_oauthlib-0.6.1-py2.py3-none-any.whl\n",
      "Collecting httpretty (from PyTumblr==0.0.6)\n",
      "  Downloading httpretty-0.8.14.tar.gz (43kB)\n",
      "\u001b[K    100% |████████████████████████████████| 51kB 4.8MB/s \n",
      "\u001b[?25hRequirement already satisfied (use --upgrade to upgrade): requests>=2.0.0 in ./anaconda/lib/python3.5/site-packages (from requests-oauthlib->PyTumblr==0.0.6)\n",
      "Collecting oauthlib>=0.6.2 (from requests-oauthlib->PyTumblr==0.0.6)\n",
      "  Downloading oauthlib-1.0.3.tar.gz (109kB)\n",
      "\u001b[K    100% |████████████████████████████████| 112kB 1.6MB/s \n",
      "\u001b[?25hBuilding wheels for collected packages: future, httpretty, oauthlib\n",
      "  Running setup.py bdist_wheel for future ... \u001b[?25l-\b \b\\\b \b|\b \b/\b \b-\b \bdone\n",
      "\u001b[?25h  Stored in directory: /Users/jiangsir/Library/Caches/pip/wheels/d9/04/36/6bd807b5148e7c929d8f0991cc943a81f3287030a1b352e3fc\n",
      "  Running setup.py bdist_wheel for httpretty ... \u001b[?25l-\b \b\\\b \bdone\n",
      "\u001b[?25h  Stored in directory: /Users/jiangsir/Library/Caches/pip/wheels/a2/cb/28/8316a764db9181830f4bd48e4f3abf6d7bd2c6e40468a6586b\n",
      "  Running setup.py bdist_wheel for oauthlib ... \u001b[?25l-\b \b\\\b \b|\b \bdone\n",
      "\u001b[?25h  Stored in directory: /Users/jiangsir/Library/Caches/pip/wheels/24/97/b6/b1f31b9c4b7710fe4e5a28e591349f68e43d6027aef320d056\n",
      "Successfully built future httpretty oauthlib\n",
      "Installing collected packages: future, oauthlib, requests-oauthlib, httpretty, PyTumblr\n",
      "  Running setup.py install for PyTumblr ... \u001b[?25l-\b \b\\\b \bdone\n",
      "\u001b[?25hSuccessfully installed PyTumblr future httpretty oauthlib requests-oauthlib\n"
     ]
    }
   ],
   "source": [
    "!pip install --user git+https://github.com/dianakhuang/pytumblr.git@diana/python-3-support"
   ]
  },
  {
   "cell_type": "code",
   "execution_count": null,
   "metadata": {
    "collapsed": true
   },
   "outputs": [],
   "source": [
    "#要註冊 tumblr API \n"
   ]
  }
 ],
 "metadata": {
  "kernelspec": {
   "display_name": "Python 3",
   "language": "python",
   "name": "python3"
  },
  "language_info": {
   "codemirror_mode": {
    "name": "ipython",
    "version": 3
   },
   "file_extension": ".py",
   "mimetype": "text/x-python",
   "name": "python",
   "nbconvert_exporter": "python",
   "pygments_lexer": "ipython3",
   "version": "3.5.1"
  }
 },
 "nbformat": 4,
 "nbformat_minor": 0
}
