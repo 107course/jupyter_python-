{
 "cells": [
  {
   "cell_type": "code",
   "execution_count": 2,
   "metadata": {
    "collapsed": false
   },
   "outputs": [
    {
     "name": "stdout",
     "output_type": "stream",
     "text": [
      "Collecting selenium\n",
      "  Downloading selenium-2.53.2-py2.py3-none-any.whl (884kB)\n",
      "\u001b[K    100% |████████████████████████████████| 890kB 535kB/s \n",
      "\u001b[?25hInstalling collected packages: selenium\n",
      "Successfully installed selenium-2.53.2\n"
     ]
    }
   ],
   "source": [
    "\n",
    "!pip install selenium\n"
   ]
  },
  {
   "cell_type": "code",
   "execution_count": 8,
   "metadata": {
    "collapsed": false
   },
   "outputs": [
    {
     "name": "stderr",
     "output_type": "stream",
     "text": [
      "E\n",
      "======================================================================\n",
      "ERROR: /Users/jiangsir/Library/Jupyter/runtime/kernel-4440fd9a-f48c-4d7e-9937-6c459a2ca0c2 (unittest.loader._FailedTest)\n",
      "----------------------------------------------------------------------\n",
      "AttributeError: module '__main__' has no attribute '/Users/jiangsir/Library/Jupyter/runtime/kernel-4440fd9a-f48c-4d7e-9937-6c459a2ca0c2'\n",
      "\n",
      "----------------------------------------------------------------------\n",
      "Ran 1 test in 0.001s\n",
      "\n",
      "FAILED (errors=1)\n"
     ]
    },
    {
     "ename": "SystemExit",
     "evalue": "True",
     "output_type": "error",
     "traceback": [
      "An exception has occurred, use %tb to see the full traceback.\n",
      "\u001b[0;31mSystemExit\u001b[0m\u001b[0;31m:\u001b[0m True\n"
     ]
    },
    {
     "name": "stderr",
     "output_type": "stream",
     "text": [
      "To exit: use 'exit', 'quit', or Ctrl-D.\n"
     ]
    }
   ],
   "source": [
    "\n",
    "from selenium import selenium\n",
    "import unittest, time, re\n",
    "\n",
    "class zerojudge_test(unittest.TestCase):\n",
    "    def setUp(self):\n",
    "        self.verificationErrors = []\n",
    "        self.selenium = selenium(\"localhost\", 4444, \"*chrome\", \"http://zerojudge.tw/\")\n",
    "        self.selenium.start()\n",
    "    \n",
    "    def test_zerojudge_test(self):\n",
    "        sel = self.selenium\n",
    "        sel.open(\"/Forum\")\n",
    "        sel.click(\"id=ui-id-3\")\n",
    "        sel.wait_for_page_to_load(\"30000\")\n",
    "        sel.click(\"id=ui-id-1\")\n",
    "        sel.wait_for_page_to_load(\"30000\")\n",
    "        sel.click(\"id=ui-id-4\")\n",
    "        sel.wait_for_page_to_load(\"30000\")\n",
    "        sel.type(\"id=account\", \"test\")\n",
    "        sel.type(\"id=passwd\", \"test\")\n",
    "        sel.click(u\"//input[@value='送出']\")\n",
    "        sel.wait_for_page_to_load(\"30000\")\n",
    "        sel.click(u\"link=競賽區\")\n",
    "        sel.wait_for_page_to_load(\"30000\")\n",
    "    \n",
    "    def tearDown(self):\n",
    "        self.selenium.stop()\n",
    "        self.assertEqual([], self.verificationErrors)\n",
    "\n",
    "#if __name__ == \"__main__\":\n",
    "    unittest.main()\n"
   ]
  },
  {
   "cell_type": "code",
   "execution_count": null,
   "metadata": {
    "collapsed": true
   },
   "outputs": [],
   "source": []
  },
  {
   "cell_type": "code",
   "execution_count": null,
   "metadata": {
    "collapsed": true
   },
   "outputs": [],
   "source": []
  }
 ],
 "metadata": {
  "kernelspec": {
   "display_name": "Python 3",
   "language": "python",
   "name": "python3"
  },
  "language_info": {
   "codemirror_mode": {
    "name": "ipython",
    "version": 3
   },
   "file_extension": ".py",
   "mimetype": "text/x-python",
   "name": "python",
   "nbconvert_exporter": "python",
   "pygments_lexer": "ipython3",
   "version": "3.5.1"
  }
 },
 "nbformat": 4,
 "nbformat_minor": 0
}
