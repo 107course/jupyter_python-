{
 "cells": [
  {
   "cell_type": "code",
   "execution_count": 4,
   "metadata": {
    "collapsed": false
   },
   "outputs": [
    {
     "name": "stdout",
     "output_type": "stream",
     "text": [
      "Requirement already satisfied: ipython in /Users/jiangsir/anaconda/lib/python3.5/site-packages\r\n"
     ]
    }
   ],
   "source": [
    "!pip install ipython\n",
    "!pip3 install ipython\n"
   ]
  },
  {
   "cell_type": "code",
   "execution_count": 5,
   "metadata": {
    "collapsed": false
   },
   "outputs": [
    {
     "name": "stdout",
     "output_type": "stream",
     "text": [
      "[{'faceRectangle': {'top': 141, 'height': 261, 'width': 261, 'left': 664}, 'faceId': 'fea57809-c7aa-4a7f-a5b0-a54861e23b76', 'faceAttributes': {'blur': {'value': 0.0, 'blurLevel': 'low'}, 'makeup': {'lipMakeup': False, 'eyeMakeup': False}, 'smile': 0.999, 'exposure': {'exposureLevel': 'goodExposure', 'value': 0.59}, 'occlusion': {'foreheadOccluded': False, 'eyeOccluded': False, 'mouthOccluded': False}, 'emotion': {'sadness': 0.0, 'fear': 0.0, 'anger': 0.0, 'disgust': 0.0, 'happiness': 0.999, 'surprise': 0.0, 'neutral': 0.001, 'contempt': 0.0}, 'headPose': {'yaw': -14.1, 'pitch': 0.0, 'roll': -13.9}, 'hair': {'bald': 0.01, 'hairColor': [{'confidence': 1.0, 'color': 'black'}, {'confidence': 0.38, 'color': 'other'}, {'confidence': 0.24, 'color': 'gray'}, {'confidence': 0.2, 'color': 'red'}, {'confidence': 0.2, 'color': 'brown'}, {'confidence': 0.04, 'color': 'blond'}], 'invisible': False}, 'glasses': 'ReadingGlasses', 'accessories': [{'confidence': 1.0, 'type': 'glasses'}], 'facialHair': {'moustache': 0.1, 'sideburns': 0.0, 'beard': 0.1}, 'age': 34.9, 'gender': 'male'}}, {'faceRectangle': {'top': 353, 'height': 181, 'width': 181, 'left': 432}, 'faceId': '65f85ad8-0b5f-4188-80ff-868934eb2024', 'faceAttributes': {'blur': {'value': 0.0, 'blurLevel': 'low'}, 'makeup': {'lipMakeup': False, 'eyeMakeup': False}, 'smile': 0.001, 'exposure': {'exposureLevel': 'goodExposure', 'value': 0.7}, 'occlusion': {'foreheadOccluded': False, 'eyeOccluded': False, 'mouthOccluded': False}, 'emotion': {'sadness': 0.041, 'fear': 0.0, 'anger': 0.002, 'disgust': 0.0, 'happiness': 0.001, 'surprise': 0.002, 'neutral': 0.953, 'contempt': 0.001}, 'headPose': {'yaw': 1.5, 'pitch': 0.0, 'roll': -4.0}, 'hair': {'bald': 0.0, 'hairColor': [{'confidence': 1.0, 'color': 'brown'}, {'confidence': 0.95, 'color': 'black'}, {'confidence': 0.19, 'color': 'blond'}, {'confidence': 0.07, 'color': 'other'}, {'confidence': 0.06, 'color': 'gray'}, {'confidence': 0.03, 'color': 'red'}], 'invisible': False}, 'glasses': 'NoGlasses', 'accessories': [], 'facialHair': {'moustache': 0.0, 'sideburns': 0.0, 'beard': 0.0}, 'age': 1.0, 'gender': 'male'}}]\n",
      "[{'faceRectangle': {'top': 371, 'height': 140, 'width': 140, 'left': 227}, 'faceId': '10ef4d11-ff36-4377-9d0f-a6b039dd8e82', 'faceAttributes': {'blur': {'value': 0.07, 'blurLevel': 'low'}, 'makeup': {'lipMakeup': False, 'eyeMakeup': True}, 'smile': 0.838, 'exposure': {'exposureLevel': 'goodExposure', 'value': 0.44}, 'occlusion': {'foreheadOccluded': False, 'eyeOccluded': False, 'mouthOccluded': False}, 'emotion': {'sadness': 0.003, 'fear': 0.001, 'anger': 0.014, 'disgust': 0.016, 'happiness': 0.838, 'surprise': 0.126, 'neutral': 0.002, 'contempt': 0.0}, 'headPose': {'yaw': -5.1, 'pitch': 0.0, 'roll': -3.9}, 'hair': {'bald': 0.01, 'hairColor': [{'confidence': 1.0, 'color': 'black'}, {'confidence': 0.57, 'color': 'other'}, {'confidence': 0.47, 'color': 'brown'}, {'confidence': 0.09, 'color': 'red'}, {'confidence': 0.05, 'color': 'gray'}, {'confidence': 0.03, 'color': 'blond'}], 'invisible': False}, 'glasses': 'NoGlasses', 'accessories': [], 'facialHair': {'moustache': 0.0, 'sideburns': 0.0, 'beard': 0.0}, 'age': 4.2, 'gender': 'female'}}]\n",
      "[{'faceRectangle': {'top': 363, 'height': 157, 'width': 157, 'left': 156}, 'faceId': 'c77af672-c73b-4eec-9207-26635aae1f03', 'faceAttributes': {'blur': {'value': 0.12, 'blurLevel': 'low'}, 'makeup': {'lipMakeup': False, 'eyeMakeup': False}, 'smile': 1.0, 'exposure': {'exposureLevel': 'goodExposure', 'value': 0.49}, 'occlusion': {'foreheadOccluded': False, 'eyeOccluded': False, 'mouthOccluded': False}, 'emotion': {'sadness': 0.0, 'fear': 0.0, 'anger': 0.0, 'disgust': 0.0, 'happiness': 1.0, 'surprise': 0.0, 'neutral': 0.0, 'contempt': 0.0}, 'headPose': {'yaw': -13.5, 'pitch': 0.0, 'roll': 10.4}, 'hair': {'bald': 0.0, 'hairColor': [{'confidence': 1.0, 'color': 'black'}, {'confidence': 0.8, 'color': 'other'}, {'confidence': 0.23, 'color': 'brown'}, {'confidence': 0.11, 'color': 'red'}, {'confidence': 0.05, 'color': 'gray'}, {'confidence': 0.02, 'color': 'blond'}], 'invisible': False}, 'glasses': 'NoGlasses', 'accessories': [], 'facialHair': {'moustache': 0.0, 'sideburns': 0.0, 'beard': 0.0}, 'age': 5.8, 'gender': 'female'}}, {'faceRectangle': {'top': 331, 'height': 49, 'width': 49, 'left': 60}, 'faceId': 'bc14d857-5f31-4488-afd0-b9d50e93c9fb', 'faceAttributes': {'blur': {'value': 0.29, 'blurLevel': 'medium'}, 'makeup': {'lipMakeup': True, 'eyeMakeup': False}, 'smile': 0.104, 'exposure': {'exposureLevel': 'overExposure', 'value': 0.96}, 'occlusion': {'foreheadOccluded': True, 'eyeOccluded': False, 'mouthOccluded': False}, 'emotion': {'sadness': 0.282, 'fear': 0.001, 'anger': 0.005, 'disgust': 0.003, 'happiness': 0.104, 'surprise': 0.003, 'neutral': 0.601, 'contempt': 0.002}, 'headPose': {'yaw': -8.9, 'pitch': 0.0, 'roll': 0.0}, 'hair': {'bald': 0.0, 'hairColor': [], 'invisible': True}, 'glasses': 'NoGlasses', 'accessories': [{'confidence': 1.0, 'type': 'headwear'}], 'facialHair': {'moustache': 0.3, 'sideburns': 0.1, 'beard': 0.1}, 'age': 18.3, 'gender': 'male'}}]\n",
      "jiangsir 94686663-6c95-411c-bb36-bba07160e85c\n",
      "開始辨識。\n",
      "[{'faceId': 'fea57809-c7aa-4a7f-a5b0-a54861e23b76', 'candidates': [{'confidence': 0.81553, 'personId': '94686663-6c95-411c-bb36-bba07160e85c'}]}, {'faceId': '10ef4d11-ff36-4377-9d0f-a6b039dd8e82', 'candidates': []}, {'faceId': 'c77af672-c73b-4eec-9207-26635aae1f03', 'candidates': []}]\n",
      "personId: 94686663-6c95-411c-bb36-bba07160e85c, 信心指數：0.81553\n",
      "影中人：jiangsir\n"
     ]
    },
    {
     "data": {
      "text/html": [
       "<img src=\"face1.JPG\"/>"
      ],
      "text/plain": [
       "<IPython.core.display.Image object>"
      ]
     },
     "metadata": {},
     "output_type": "display_data"
    },
    {
     "name": "stdout",
     "output_type": "stream",
     "text": [
      "沒有符合的人！\n"
     ]
    },
    {
     "data": {
      "text/html": [
       "<img src=\"face2.jpg\"/>"
      ],
      "text/plain": [
       "<IPython.core.display.Image object>"
      ]
     },
     "metadata": {},
     "output_type": "display_data"
    },
    {
     "name": "stdout",
     "output_type": "stream",
     "text": [
      "沒有符合的人！\n"
     ]
    },
    {
     "data": {
      "text/html": [
       "<img src=\"face4.jpg\"/>"
      ],
      "text/plain": [
       "<IPython.core.display.Image object>"
      ]
     },
     "metadata": {},
     "output_type": "display_data"
    }
   ],
   "source": [
    "import http.client, urllib.request, urllib.parse, urllib.error, base64, json\n",
    "from IPython.display import Image\n",
    "from IPython.display import display\n",
    "\n",
    "api_key = 'ab4a7f41157e4592aa7cf47de4be49a1'\n",
    "host = 'westcentralus.api.cognitive.microsoft.com'\n",
    "personGroupId = 'jiangsir_groupid4'\n",
    "\n",
    "def identify(faceids, personGroupId):\n",
    "    print(\"開始辨識。\")\n",
    "    headers = {\n",
    "        # Request headers\n",
    "        'Content-Type': 'application/json',\n",
    "        'Ocp-Apim-Subscription-Key': api_key,\n",
    "    }\n",
    "\n",
    "    params = urllib.parse.urlencode({\n",
    "    })\n",
    "\n",
    "    requestbody = '''{\n",
    "        \"personGroupId\": \"'''+personGroupId+'''\",\n",
    "        \"faceIds\":'''+str(faceids)+''',\n",
    "        \"maxNumOfCandidatesReturned\":1,\n",
    "        \"confidenceThreshold\": 0.5\n",
    "    }'''\n",
    "\n",
    "    try:\n",
    "        conn = http.client.HTTPSConnection(host)\n",
    "        conn.request(\"POST\", \"/face/v1.0/identify?%s\" % params, requestbody, headers)\n",
    "        response = conn.getresponse()\n",
    "        data = response.read()\n",
    "        #print(data)\n",
    "        facejson = json.loads(str(data,'UTF-8'))\n",
    "        #print(facejson)\n",
    "        conn.close()\n",
    "        return facejson\n",
    "    except Exception as e:\n",
    "        print(\"[Errno {0}] {1}\".format(e.errno, e.strerror))\n",
    "\n",
    "        \n",
    "def get_a_person(personGroupId, personId):\n",
    "    headers = {\n",
    "        # Request headers\n",
    "        'Ocp-Apim-Subscription-Key': api_key,\n",
    "    }\n",
    "\n",
    "    params = urllib.parse.urlencode({\n",
    "    })\n",
    "\n",
    "    try:\n",
    "        conn = http.client.HTTPSConnection(host)\n",
    "        conn.request(\"GET\", \"/face/v1.0/persongroups/\"+personGroupId+\"/persons/\"+personId+\"?%s\" % params, \"{body}\", headers)\n",
    "        response = conn.getresponse()\n",
    "        data = response.read()\n",
    "        personjson = json.loads(str(data,'UTF-8'))\n",
    "        conn.close()\n",
    "        return personjson\n",
    "    except Exception as e:\n",
    "        print(\"[Errno {0}] {1}\".format(e.errno, e.strerror))\n",
    "        \n",
    "\n",
    "def list_persons_in_group(personGroupId):\n",
    "    headers = {\n",
    "        # Request headers\n",
    "        'Ocp-Apim-Subscription-Key': api_key,\n",
    "    }\n",
    "\n",
    "    params = urllib.parse.urlencode({\n",
    "        # Request parameters\n",
    "        #'start': '{string}',\n",
    "        #'top': '1000',\n",
    "    })\n",
    "\n",
    "    try:\n",
    "        conn = http.client.HTTPSConnection(host)\n",
    "        conn.request(\"GET\", \"/face/v1.0/persongroups/\"+personGroupId+\"/persons?%s\" % params, \"{body}\", headers)\n",
    "        response = conn.getresponse()\n",
    "        data = response.read()\n",
    "        #print(data)\n",
    "        persons = json.loads(str(data,'UTF-8'))\n",
    "        conn.close()\n",
    "        return persons\n",
    "    except Exception as e:\n",
    "        print(\"[Errno {0}] {1}\".format(e.errno, e.strerror))    \n",
    "\n",
    "def DetectingLocal(imagepath):\n",
    "    headers = {\n",
    "        # Request headers\n",
    "        #'Content-Type': 'application/json',\n",
    "        'Content-Type': 'application/octet-stream', # 用本地圖檔辨識\n",
    "        'Ocp-Apim-Subscription-Key': api_key,\n",
    "    }\n",
    "\n",
    "    params = urllib.parse.urlencode({\n",
    "        # Request parameters\n",
    "        'returnFaceId': 'true',\n",
    "        'returnFaceLandmarks': 'false',\n",
    "        'returnFaceAttributes': 'age,gender,headPose,smile,facialHair,glasses,emotion,hair,makeup,occlusion,accessories,blur,exposure',\n",
    "    })\n",
    "\n",
    "    #requestbody = '{\"url\":\"'+imageurl+'\"}'\n",
    "    #requestbody = open('face1.JPG', \"rb\").read()\n",
    "    requestbody = open(imagepath, \"rb\").read()\n",
    "    \n",
    "    try:\n",
    "        conn = http.client.HTTPSConnection(host)\n",
    "        conn.request(\"POST\", \"/face/v1.0/detect?%s\" % params, requestbody, headers)\n",
    "        response = conn.getresponse()\n",
    "        data = response.read()\n",
    "        #print(data)\n",
    "        parsed = json.loads(str(data,'UTF-8'))\n",
    "        print(parsed)\n",
    "        #print(parsed[0]['faceId'])\n",
    "        #faceids.append(parsed[0]['faceId'])\n",
    "        conn.close()\n",
    "        return parsed[0]['faceId']\n",
    "    except Exception as e:\n",
    "        print(\"[Errno {0}] {1}\".format(e.errno, e.strerror))\n",
    "\n",
    "\n",
    "##################################################################################################\n",
    "### main\n",
    "##################################################################################################\n",
    "\n",
    "faceids = []\n",
    "imagepaths = []\n",
    "imagepaths.append(\"face1.JPG\")\n",
    "imagepaths.append(\"face2.jpg\")\n",
    "#imagepaths.append(\"face3.jpg\")\n",
    "imagepaths.append(\"face4.jpg\")\n",
    "\n",
    "#for imageurl in imageurls:\n",
    "#    faceids.append(Detecting(imageurl))\n",
    "for imagepath in imagepaths:\n",
    "    faceids.append(DetectingLocal(imagepath))\n",
    "\n",
    "\n",
    "\n",
    "persons = list_persons_in_group(personGroupId)    \n",
    "for person in persons:\n",
    "    print(person[\"name\"], person[\"personId\"])\n",
    "\n",
    "facejson = identify(faceids, personGroupId)\n",
    "print(facejson)\n",
    "for i in range(len(faceids)):\n",
    "    if len(facejson[i][\"candidates\"])>0:\n",
    "        print(\"personId: \"+facejson[i][\"candidates\"][0][\"personId\"]+\", 信心指數：\"+str(facejson[i][\"candidates\"][0][\"confidence\"]))\n",
    "        personjson = get_a_person(personGroupId, facejson[i][\"candidates\"][0][\"personId\"])\n",
    "        print(\"影中人：\"+personjson['name'])\n",
    "    else:\n",
    "        print(\"沒有符合的人！\")\n",
    "    display(Image(url=imagepaths[i]))\n"
   ]
  },
  {
   "cell_type": "code",
   "execution_count": null,
   "metadata": {
    "collapsed": true
   },
   "outputs": [],
   "source": []
  }
 ],
 "metadata": {
  "kernelspec": {
   "display_name": "Python 3",
   "language": "python",
   "name": "python3"
  },
  "language_info": {
   "codemirror_mode": {
    "name": "ipython",
    "version": 3
   },
   "file_extension": ".py",
   "mimetype": "text/x-python",
   "name": "python",
   "nbconvert_exporter": "python",
   "pygments_lexer": "ipython3",
   "version": "3.5.1"
  }
 },
 "nbformat": 4,
 "nbformat_minor": 0
}
